{
 "cells": [
  {
   "cell_type": "markdown",
   "metadata": {},
   "source": [
    "## PART 1"
   ]
  },
  {
   "cell_type": "markdown",
   "metadata": {},
   "source": [
    "### Ques 1\n",
    "Question: Please refer the table below to answer below questions:\n",
    "Planned to purchase Product A   Actually placed and order for Product A-Yes  Actually placed and order for Product A-No   Total\n",
    "                Yes             400                                          100                                          500\n",
    "                No              200                                          1300                                         1500\n",
    "               Total            600                                          1400                                         2000\n",
    "1. Refer to the above table and find the joint probability of the people who planned to purchase and actually placed an order.\n",
    "2. Refer to the above table and find the joint probability of the people who planned to purchase and actually placed an order, given that people planned to purchase."
   ]
  },
  {
   "cell_type": "code",
   "execution_count": 38,
   "metadata": {},
   "outputs": [
    {
     "name": "stdout",
     "output_type": "stream",
     "text": [
      "The joint probability of the people who planned to purchase and actually placed an order :  0.2\n"
     ]
    }
   ],
   "source": [
    "a1 = 400 / 2000\n",
    "print(\"The joint probability of the people who planned to purchase and actually placed an order : \", a1)"
   ]
  },
  {
   "cell_type": "code",
   "execution_count": 39,
   "metadata": {},
   "outputs": [
    {
     "name": "stdout",
     "output_type": "stream",
     "text": [
      "The joint probability of the people who planned to purchase and actually placed an order, given that people planned to purchase :  0.8\n"
     ]
    }
   ],
   "source": [
    "a2 = 400 / 500\n",
    "print(\"The joint probability of the people who planned to purchase and actually placed an order, given that people planned to purchase : \", a2)"
   ]
  },
  {
   "cell_type": "markdown",
   "metadata": {},
   "source": [
    "### Ques 2\n",
    "Question: An electrical manufacturing company conducts quality checks at specified periods on the\n",
    "products it manufactures. Historically, the failure rate for the manufactured item is 5%. Suppose a random\n",
    "sample of 10 manufactured items is selected. Answer the following questions.\n",
    "A. Probability that none of the items are defective?\n",
    "B. Probability that exactly one of the items is defective?\n",
    "C. Probability that two or fewer of the items are defective?\n",
    "D. Probability that three or more of the items are defective ?"
   ]
  },
  {
   "cell_type": "code",
   "execution_count": 20,
   "metadata": {},
   "outputs": [],
   "source": [
    "import numpy as np\n",
    "import scipy.stats as stats"
   ]
  },
  {
   "cell_type": "code",
   "execution_count": 3,
   "metadata": {},
   "outputs": [
    {
     "name": "stdout",
     "output_type": "stream",
     "text": [
      "[5.98736939e-01 3.15124705e-01 7.46347985e-02 1.04750594e-02\n",
      " 9.64808106e-04 6.09352488e-05 2.67259863e-06 8.03789063e-08\n",
      " 1.58642578e-09 1.85546875e-11]\n"
     ]
    }
   ],
   "source": [
    "#Using binomial distribution to solve this problem\n",
    "p = 0.05\n",
    "n = 10\n",
    "k = np.arange(0,10)\n",
    "\n",
    "a = stats.binom.pmf(k,n,p)\n",
    "print(a)"
   ]
  },
  {
   "cell_type": "code",
   "execution_count": 5,
   "metadata": {},
   "outputs": [
    {
     "name": "stdout",
     "output_type": "stream",
     "text": [
      "Probability that none of the items are defective :  0.5987369392383789\n"
     ]
    }
   ],
   "source": [
    "print(\"Probability that none of the items are defective : \", a[0])"
   ]
  },
  {
   "cell_type": "code",
   "execution_count": 6,
   "metadata": {},
   "outputs": [
    {
     "name": "stdout",
     "output_type": "stream",
     "text": [
      "Probability that exactly one of the items is defective :  0.31512470486230504\n"
     ]
    }
   ],
   "source": [
    "print(\"Probability that exactly one of the items is defective : \", a[1])"
   ]
  },
  {
   "cell_type": "code",
   "execution_count": 10,
   "metadata": {},
   "outputs": [
    {
     "name": "stdout",
     "output_type": "stream",
     "text": [
      "Probability that two or fewer of the items are defective : 0.9884964426207035\n"
     ]
    }
   ],
   "source": [
    "a3 = a[0]+a[1]+a[2]\n",
    "print(\"Probability that two or fewer of the items are defective :\", a3)"
   ]
  },
  {
   "cell_type": "code",
   "execution_count": 11,
   "metadata": {},
   "outputs": [
    {
     "name": "stdout",
     "output_type": "stream",
     "text": [
      "Probability that three or more of the items are defective : 0.011503557379296536\n"
     ]
    }
   ],
   "source": [
    "a4 = 1  - a3\n",
    "print(\"Probability that three or more of the items are defective :\", a4)"
   ]
  },
  {
   "cell_type": "markdown",
   "metadata": {},
   "source": [
    "### Ques 3\n",
    "Question: A car salesman sells on an average 3 cars per week.\n",
    "A. Probability that in a given week he will sell some cars.\n",
    "B. Probability that in a given week he will sell 2 or more but less than 5 cars.\n",
    "C. Plot the poisson distribution function for cumulative probability of cars sold per-week vs number of cars sold perweek."
   ]
  },
  {
   "cell_type": "code",
   "execution_count": 12,
   "metadata": {},
   "outputs": [
    {
     "name": "stdout",
     "output_type": "stream",
     "text": [
      "[0.04978707 0.14936121 0.22404181 0.22404181 0.16803136 0.10081881\n",
      " 0.05040941 0.02160403 0.00810151 0.0027005 ]\n"
     ]
    }
   ],
   "source": [
    "#Using Poisson distribution to solve this problem\n",
    "m = 3\n",
    "k = np.arange(0,10)\n",
    "\n",
    "b = stats.poisson.pmf(k,m)\n",
    "print(b)"
   ]
  },
  {
   "cell_type": "code",
   "execution_count": 13,
   "metadata": {},
   "outputs": [
    {
     "name": "stdout",
     "output_type": "stream",
     "text": [
      "Probability that in a given week he will sell some cars : 0.950212931632136\n"
     ]
    }
   ],
   "source": [
    "a1 = 1 - b[0]\n",
    "print(\"Probability that in a given week he will sell some cars :\", a1)"
   ]
  },
  {
   "cell_type": "code",
   "execution_count": 14,
   "metadata": {},
   "outputs": [
    {
     "name": "stdout",
     "output_type": "stream",
     "text": [
      "Probability that in a given week he will sell 2 or more but less than 5 cars :  0.6161149710523164\n"
     ]
    }
   ],
   "source": [
    "a2 = b[2]+b[3]+b[4]\n",
    "print(\"Probability that in a given week he will sell 2 or more but less than 5 cars : \", a2) "
   ]
  },
  {
   "cell_type": "markdown",
   "metadata": {},
   "source": [
    "### Ques 4\n",
    "Question: Accuracy in understanding orders for a speech based bot at a restaurant is important for the\n",
    "Company X which has designed, marketed and launched the product for a contactless delivery due to the\n",
    "COVID-19 pandemic. Recognition accuracy that measures the percentage of orders that are taken correctly is\n",
    "86.8%. Suppose that you place order with the bot and two friends of yours independently place orders with\n",
    "the same bot. Answer the following questions.\n",
    "A. What is the probability that all three orders will be recognised correctly?\n",
    "B. What is the probability that none of the three orders will be recognised correctly?\n",
    "C. What is the probability that at least two of the three orders will be recognised correctly?"
   ]
  },
  {
   "cell_type": "code",
   "execution_count": 16,
   "metadata": {},
   "outputs": [
    {
     "name": "stdout",
     "output_type": "stream",
     "text": [
      "Probability that all three orders will be recognised correctly :  0.653972032\n"
     ]
    }
   ],
   "source": [
    "a1 = (0.868 ** 3)\n",
    "print(\"Probability that all three orders will be recognised correctly : \",a1)"
   ]
  },
  {
   "cell_type": "code",
   "execution_count": 19,
   "metadata": {},
   "outputs": [
    {
     "name": "stdout",
     "output_type": "stream",
     "text": [
      "Probability that none of the three orders will be recognised correctly :  0.0022999680000000003\n"
     ]
    }
   ],
   "source": [
    "b = 1-0.868\n",
    "a2 = (b ** 3)\n",
    "print(\"Probability that none of the three orders will be recognised correctly : \",a2)"
   ]
  },
  {
   "cell_type": "code",
   "execution_count": 21,
   "metadata": {},
   "outputs": [
    {
     "name": "stdout",
     "output_type": "stream",
     "text": [
      "Probability that atleast two of the three orders will be filled correctly :  0.952327936\n"
     ]
    }
   ],
   "source": [
    "d = 3*(0.868**2)*(0.132)\n",
    "a3 = d+a1\n",
    "print(\"Probability that atleast two of the three orders will be filled correctly : \", a3)"
   ]
  },
  {
   "cell_type": "markdown",
   "metadata": {},
   "source": [
    "### Ques 5\n",
    "Question: A group of 300 professionals sat for a competitive exam. The results show the information of\n",
    "marks obtained by them have a mean of 60 and a standard deviation of 12. The pattern of marks follows a\n",
    "normal distribution. Answer the following questions.\n",
    "A. What is the percentage of students who score more than 80.\n",
    "B. What is the percentage of students who score less than 50.\n",
    "C. What should be the distinction mark if the highest 10% of students are to be awarded distinction?"
   ]
  },
  {
   "cell_type": "code",
   "execution_count": 29,
   "metadata": {},
   "outputs": [
    {
     "name": "stdout",
     "output_type": "stream",
     "text": [
      "The percentage of students who score more than 80 :  4.77903522728147\n"
     ]
    }
   ],
   "source": [
    "m = 60\n",
    "sd = 12\n",
    "z1 = (80 - 60) / 12\n",
    "\n",
    "a = stats.norm.cdf(80,m,sd) \n",
    "a1 = 1 - a\n",
    "ans = a1 * 100\n",
    "print(\"The percentage of students who score more than 80 : \", ans)"
   ]
  },
  {
   "cell_type": "code",
   "execution_count": 32,
   "metadata": {},
   "outputs": [
    {
     "name": "stdout",
     "output_type": "stream",
     "text": [
      "The percentage of students who score less than 50 :  20.232838096364308\n"
     ]
    }
   ],
   "source": [
    "m = 60\n",
    "sd = 12\n",
    "z2 = (50 - 60) / 12\n",
    "\n",
    "b = stats.norm.cdf(50,m,sd)\n",
    "a2 = b*100  \n",
    "print(\"The percentage of students who score less than 50 : \", a2)"
   ]
  },
  {
   "cell_type": "code",
   "execution_count": 33,
   "metadata": {},
   "outputs": [
    {
     "data": {
      "text/plain": [
       "0.9937903346742238"
      ]
     },
     "execution_count": 33,
     "metadata": {},
     "output_type": "execute_result"
    }
   ],
   "source": [
    "b = stats.norm.cdf(90,m,sd)\n",
    "b"
   ]
  },
  {
   "cell_type": "code",
   "execution_count": 37,
   "metadata": {},
   "outputs": [
    {
     "name": "stdout",
     "output_type": "stream",
     "text": [
      "The distinction mark if the highest 10% of students are to be awarded distinction :  75.36\n"
     ]
    }
   ],
   "source": [
    "#z-score associated with 90% (0.89973) is 1.28\n",
    "d = 1.28\n",
    "#d = (x - m) / sd\n",
    "#x - m = sd * d\n",
    "x = m + (sd * d)\n",
    "print(\"The distinction mark if the highest 10% of students are to be awarded distinction : \", x)"
   ]
  },
  {
   "cell_type": "markdown",
   "metadata": {},
   "source": [
    "### Ques 6\n",
    "Question: Explain 1 real life industry scenario (other than the ones mentioned above) where you can use the concepts learnt in this module of Applied statistics to get a data driven business solution\n",
    "\n",
    "### ANS \n",
    "Applied statistics can be used in the music industry to identify the most important factors, person-related and situational related factors which drive people's music selection behavior. Which kind of music gets the most no. of hits, which kind of genre to choose for music composers etc."
   ]
  },
  {
   "cell_type": "markdown",
   "metadata": {},
   "source": [
    "## PART 2\n",
    "Renamed the DS-Part2-Basketball.csv as Basketball.csv"
   ]
  },
  {
   "cell_type": "markdown",
   "metadata": {},
   "source": [
    "### DATA CLEANING"
   ]
  },
  {
   "cell_type": "code",
   "execution_count": 2,
   "metadata": {},
   "outputs": [
    {
     "data": {
      "text/html": [
       "<div>\n",
       "<style scoped>\n",
       "    .dataframe tbody tr th:only-of-type {\n",
       "        vertical-align: middle;\n",
       "    }\n",
       "\n",
       "    .dataframe tbody tr th {\n",
       "        vertical-align: top;\n",
       "    }\n",
       "\n",
       "    .dataframe thead th {\n",
       "        text-align: right;\n",
       "    }\n",
       "</style>\n",
       "<table border=\"1\" class=\"dataframe\">\n",
       "  <thead>\n",
       "    <tr style=\"text-align: right;\">\n",
       "      <th></th>\n",
       "      <th>Team</th>\n",
       "      <th>Tournament</th>\n",
       "      <th>Score</th>\n",
       "      <th>PlayedGames</th>\n",
       "      <th>WonGames</th>\n",
       "      <th>DrawnGames</th>\n",
       "      <th>LostGames</th>\n",
       "      <th>BasketScored</th>\n",
       "      <th>BasketGiven</th>\n",
       "      <th>TournamentChampion</th>\n",
       "      <th>Runner-up</th>\n",
       "      <th>TeamLaunch</th>\n",
       "      <th>HighestPositionHeld</th>\n",
       "    </tr>\n",
       "  </thead>\n",
       "  <tbody>\n",
       "    <tr>\n",
       "      <th>0</th>\n",
       "      <td>Team 1</td>\n",
       "      <td>86</td>\n",
       "      <td>4385</td>\n",
       "      <td>2762</td>\n",
       "      <td>1647</td>\n",
       "      <td>552</td>\n",
       "      <td>563</td>\n",
       "      <td>5947</td>\n",
       "      <td>3140</td>\n",
       "      <td>33</td>\n",
       "      <td>23</td>\n",
       "      <td>1929</td>\n",
       "      <td>1</td>\n",
       "    </tr>\n",
       "    <tr>\n",
       "      <th>1</th>\n",
       "      <td>Team 2</td>\n",
       "      <td>86</td>\n",
       "      <td>4262</td>\n",
       "      <td>2762</td>\n",
       "      <td>1581</td>\n",
       "      <td>573</td>\n",
       "      <td>608</td>\n",
       "      <td>5900</td>\n",
       "      <td>3114</td>\n",
       "      <td>25</td>\n",
       "      <td>25</td>\n",
       "      <td>1929</td>\n",
       "      <td>1</td>\n",
       "    </tr>\n",
       "    <tr>\n",
       "      <th>2</th>\n",
       "      <td>Team 3</td>\n",
       "      <td>80</td>\n",
       "      <td>3442</td>\n",
       "      <td>2614</td>\n",
       "      <td>1241</td>\n",
       "      <td>598</td>\n",
       "      <td>775</td>\n",
       "      <td>4534</td>\n",
       "      <td>3309</td>\n",
       "      <td>10</td>\n",
       "      <td>8</td>\n",
       "      <td>1929</td>\n",
       "      <td>1</td>\n",
       "    </tr>\n",
       "    <tr>\n",
       "      <th>3</th>\n",
       "      <td>Team 4</td>\n",
       "      <td>82</td>\n",
       "      <td>3386</td>\n",
       "      <td>2664</td>\n",
       "      <td>1187</td>\n",
       "      <td>616</td>\n",
       "      <td>861</td>\n",
       "      <td>4398</td>\n",
       "      <td>3469</td>\n",
       "      <td>6</td>\n",
       "      <td>6</td>\n",
       "      <td>1931to32</td>\n",
       "      <td>1</td>\n",
       "    </tr>\n",
       "    <tr>\n",
       "      <th>4</th>\n",
       "      <td>Team 5</td>\n",
       "      <td>86</td>\n",
       "      <td>3368</td>\n",
       "      <td>2762</td>\n",
       "      <td>1209</td>\n",
       "      <td>633</td>\n",
       "      <td>920</td>\n",
       "      <td>4631</td>\n",
       "      <td>3700</td>\n",
       "      <td>8</td>\n",
       "      <td>7</td>\n",
       "      <td>1929</td>\n",
       "      <td>1</td>\n",
       "    </tr>\n",
       "  </tbody>\n",
       "</table>\n",
       "</div>"
      ],
      "text/plain": [
       "     Team  Tournament Score PlayedGames WonGames DrawnGames LostGames  \\\n",
       "0  Team 1          86  4385        2762     1647        552       563   \n",
       "1  Team 2          86  4262        2762     1581        573       608   \n",
       "2  Team 3          80  3442        2614     1241        598       775   \n",
       "3  Team 4          82  3386        2664     1187        616       861   \n",
       "4  Team 5          86  3368        2762     1209        633       920   \n",
       "\n",
       "  BasketScored BasketGiven TournamentChampion Runner-up TeamLaunch  \\\n",
       "0         5947        3140                 33        23       1929   \n",
       "1         5900        3114                 25        25       1929   \n",
       "2         4534        3309                 10         8       1929   \n",
       "3         4398        3469                  6         6   1931to32   \n",
       "4         4631        3700                  8         7       1929   \n",
       "\n",
       "   HighestPositionHeld  \n",
       "0                    1  \n",
       "1                    1  \n",
       "2                    1  \n",
       "3                    1  \n",
       "4                    1  "
      ]
     },
     "execution_count": 2,
     "metadata": {},
     "output_type": "execute_result"
    }
   ],
   "source": [
    "import pandas as pd\n",
    "basketball = pd.read_csv(\"Basketball.csv\")\n",
    "basketball.head(5)"
   ]
  },
  {
   "cell_type": "code",
   "execution_count": 3,
   "metadata": {
    "scrolled": true
   },
   "outputs": [
    {
     "data": {
      "text/html": [
       "<div>\n",
       "<style scoped>\n",
       "    .dataframe tbody tr th:only-of-type {\n",
       "        vertical-align: middle;\n",
       "    }\n",
       "\n",
       "    .dataframe tbody tr th {\n",
       "        vertical-align: top;\n",
       "    }\n",
       "\n",
       "    .dataframe thead th {\n",
       "        text-align: right;\n",
       "    }\n",
       "</style>\n",
       "<table border=\"1\" class=\"dataframe\">\n",
       "  <thead>\n",
       "    <tr style=\"text-align: right;\">\n",
       "      <th></th>\n",
       "      <th>Team</th>\n",
       "      <th>Tournament</th>\n",
       "      <th>Score</th>\n",
       "      <th>PlayedGames</th>\n",
       "      <th>WonGames</th>\n",
       "      <th>DrawnGames</th>\n",
       "      <th>LostGames</th>\n",
       "      <th>BasketScored</th>\n",
       "      <th>BasketGiven</th>\n",
       "      <th>TournamentChampion</th>\n",
       "      <th>Runner-up</th>\n",
       "      <th>TeamLaunch</th>\n",
       "      <th>HighestPositionHeld</th>\n",
       "    </tr>\n",
       "  </thead>\n",
       "  <tbody>\n",
       "    <tr>\n",
       "      <th>56</th>\n",
       "      <td>Team 57</td>\n",
       "      <td>1</td>\n",
       "      <td>34</td>\n",
       "      <td>38</td>\n",
       "      <td>8</td>\n",
       "      <td>10</td>\n",
       "      <td>20</td>\n",
       "      <td>38</td>\n",
       "      <td>66</td>\n",
       "      <td>-</td>\n",
       "      <td>-</td>\n",
       "      <td>2009-10</td>\n",
       "      <td>20</td>\n",
       "    </tr>\n",
       "    <tr>\n",
       "      <th>57</th>\n",
       "      <td>Team 58</td>\n",
       "      <td>1</td>\n",
       "      <td>22</td>\n",
       "      <td>30</td>\n",
       "      <td>7</td>\n",
       "      <td>8</td>\n",
       "      <td>15</td>\n",
       "      <td>37</td>\n",
       "      <td>57</td>\n",
       "      <td>-</td>\n",
       "      <td>-</td>\n",
       "      <td>1956-57</td>\n",
       "      <td>16</td>\n",
       "    </tr>\n",
       "    <tr>\n",
       "      <th>58</th>\n",
       "      <td>Team 59</td>\n",
       "      <td>1</td>\n",
       "      <td>19</td>\n",
       "      <td>30</td>\n",
       "      <td>7</td>\n",
       "      <td>5</td>\n",
       "      <td>18</td>\n",
       "      <td>51</td>\n",
       "      <td>85</td>\n",
       "      <td>-</td>\n",
       "      <td>-</td>\n",
       "      <td>1951~52</td>\n",
       "      <td>16</td>\n",
       "    </tr>\n",
       "    <tr>\n",
       "      <th>59</th>\n",
       "      <td>Team 60</td>\n",
       "      <td>1</td>\n",
       "      <td>14</td>\n",
       "      <td>30</td>\n",
       "      <td>5</td>\n",
       "      <td>4</td>\n",
       "      <td>21</td>\n",
       "      <td>34</td>\n",
       "      <td>65</td>\n",
       "      <td>-</td>\n",
       "      <td>-</td>\n",
       "      <td>1955-56</td>\n",
       "      <td>15</td>\n",
       "    </tr>\n",
       "    <tr>\n",
       "      <th>60</th>\n",
       "      <td>Team 61</td>\n",
       "      <td>1</td>\n",
       "      <td>-</td>\n",
       "      <td>-</td>\n",
       "      <td>-</td>\n",
       "      <td>-</td>\n",
       "      <td>-</td>\n",
       "      <td>-</td>\n",
       "      <td>-</td>\n",
       "      <td>-</td>\n",
       "      <td>-</td>\n",
       "      <td>2017~18</td>\n",
       "      <td>9</td>\n",
       "    </tr>\n",
       "  </tbody>\n",
       "</table>\n",
       "</div>"
      ],
      "text/plain": [
       "       Team  Tournament Score PlayedGames WonGames DrawnGames LostGames  \\\n",
       "56  Team 57           1    34          38        8         10        20   \n",
       "57  Team 58           1    22          30        7          8        15   \n",
       "58  Team 59           1    19          30        7          5        18   \n",
       "59  Team 60           1    14          30        5          4        21   \n",
       "60  Team 61           1     -           -        -          -         -   \n",
       "\n",
       "   BasketScored BasketGiven TournamentChampion Runner-up TeamLaunch  \\\n",
       "56           38          66                  -         -    2009-10   \n",
       "57           37          57                  -         -    1956-57   \n",
       "58           51          85                  -         -    1951~52   \n",
       "59           34          65                  -         -    1955-56   \n",
       "60            -           -                  -         -    2017~18   \n",
       "\n",
       "    HighestPositionHeld  \n",
       "56                   20  \n",
       "57                   16  \n",
       "58                   16  \n",
       "59                   15  \n",
       "60                    9  "
      ]
     },
     "execution_count": 3,
     "metadata": {},
     "output_type": "execute_result"
    }
   ],
   "source": [
    "basketball.tail(5)"
   ]
  },
  {
   "cell_type": "code",
   "execution_count": 6,
   "metadata": {},
   "outputs": [
    {
     "name": "stdout",
     "output_type": "stream",
     "text": [
      "Shape :  (61, 13)\n",
      "Size :  793\n"
     ]
    }
   ],
   "source": [
    "print(\"Shape : \",basketball.shape)\n",
    "print(\"Size : \",basketball.size)"
   ]
  },
  {
   "cell_type": "code",
   "execution_count": 8,
   "metadata": {},
   "outputs": [
    {
     "name": "stdout",
     "output_type": "stream",
     "text": [
      "<class 'pandas.core.frame.DataFrame'>\n",
      "RangeIndex: 61 entries, 0 to 60\n",
      "Data columns (total 13 columns):\n",
      " #   Column               Non-Null Count  Dtype \n",
      "---  ------               --------------  ----- \n",
      " 0   Team                 61 non-null     object\n",
      " 1   Tournament           61 non-null     int64 \n",
      " 2   Score                61 non-null     object\n",
      " 3   PlayedGames          61 non-null     object\n",
      " 4   WonGames             61 non-null     object\n",
      " 5   DrawnGames           61 non-null     object\n",
      " 6   LostGames            61 non-null     object\n",
      " 7   BasketScored         61 non-null     object\n",
      " 8   BasketGiven          61 non-null     object\n",
      " 9   TournamentChampion   61 non-null     object\n",
      " 10  Runner-up            61 non-null     object\n",
      " 11  TeamLaunch           61 non-null     object\n",
      " 12  HighestPositionHeld  61 non-null     int64 \n",
      "dtypes: int64(2), object(11)\n",
      "memory usage: 6.3+ KB\n"
     ]
    }
   ],
   "source": [
    "basketball.info()"
   ]
  },
  {
   "cell_type": "code",
   "execution_count": 10,
   "metadata": {},
   "outputs": [
    {
     "data": {
      "text/html": [
       "<div>\n",
       "<style scoped>\n",
       "    .dataframe tbody tr th:only-of-type {\n",
       "        vertical-align: middle;\n",
       "    }\n",
       "\n",
       "    .dataframe tbody tr th {\n",
       "        vertical-align: top;\n",
       "    }\n",
       "\n",
       "    .dataframe thead th {\n",
       "        text-align: right;\n",
       "    }\n",
       "</style>\n",
       "<table border=\"1\" class=\"dataframe\">\n",
       "  <thead>\n",
       "    <tr style=\"text-align: right;\">\n",
       "      <th></th>\n",
       "      <th>Team</th>\n",
       "      <th>Tournament</th>\n",
       "      <th>Score</th>\n",
       "      <th>PlayedGames</th>\n",
       "      <th>WonGames</th>\n",
       "      <th>DrawnGames</th>\n",
       "      <th>LostGames</th>\n",
       "      <th>BasketScored</th>\n",
       "      <th>BasketGiven</th>\n",
       "      <th>TournamentChampion</th>\n",
       "      <th>Runner-up</th>\n",
       "      <th>TeamLaunch</th>\n",
       "      <th>HighestPositionHeld</th>\n",
       "    </tr>\n",
       "  </thead>\n",
       "  <tbody>\n",
       "    <tr>\n",
       "      <th>60</th>\n",
       "      <td>Team 61</td>\n",
       "      <td>1</td>\n",
       "      <td>-</td>\n",
       "      <td>-</td>\n",
       "      <td>-</td>\n",
       "      <td>-</td>\n",
       "      <td>-</td>\n",
       "      <td>-</td>\n",
       "      <td>-</td>\n",
       "      <td>-</td>\n",
       "      <td>-</td>\n",
       "      <td>2017~18</td>\n",
       "      <td>9</td>\n",
       "    </tr>\n",
       "  </tbody>\n",
       "</table>\n",
       "</div>"
      ],
      "text/plain": [
       "       Team  Tournament Score PlayedGames WonGames DrawnGames LostGames  \\\n",
       "60  Team 61           1     -           -        -          -         -   \n",
       "\n",
       "   BasketScored BasketGiven TournamentChampion Runner-up TeamLaunch  \\\n",
       "60            -           -                  -         -    2017~18   \n",
       "\n",
       "    HighestPositionHeld  \n",
       "60                    9  "
      ]
     },
     "execution_count": 10,
     "metadata": {},
     "output_type": "execute_result"
    }
   ],
   "source": [
    "# identifying the rows where score is '-'\n",
    "basketball[basketball.Score == '-']"
   ]
  },
  {
   "cell_type": "code",
   "execution_count": 11,
   "metadata": {},
   "outputs": [],
   "source": [
    "# removing the rows where score is '-'\n",
    "basketball = basketball[basketball.Score != '-']"
   ]
  },
  {
   "cell_type": "code",
   "execution_count": 13,
   "metadata": {},
   "outputs": [
    {
     "data": {
      "text/html": [
       "<div>\n",
       "<style scoped>\n",
       "    .dataframe tbody tr th:only-of-type {\n",
       "        vertical-align: middle;\n",
       "    }\n",
       "\n",
       "    .dataframe tbody tr th {\n",
       "        vertical-align: top;\n",
       "    }\n",
       "\n",
       "    .dataframe thead th {\n",
       "        text-align: right;\n",
       "    }\n",
       "</style>\n",
       "<table border=\"1\" class=\"dataframe\">\n",
       "  <thead>\n",
       "    <tr style=\"text-align: right;\">\n",
       "      <th></th>\n",
       "      <th>Team</th>\n",
       "      <th>Tournament</th>\n",
       "      <th>Score</th>\n",
       "      <th>PlayedGames</th>\n",
       "      <th>WonGames</th>\n",
       "      <th>DrawnGames</th>\n",
       "      <th>LostGames</th>\n",
       "      <th>BasketScored</th>\n",
       "      <th>BasketGiven</th>\n",
       "      <th>TournamentChampion</th>\n",
       "      <th>Runner-up</th>\n",
       "      <th>TeamLaunch</th>\n",
       "      <th>HighestPositionHeld</th>\n",
       "    </tr>\n",
       "  </thead>\n",
       "  <tbody>\n",
       "    <tr>\n",
       "      <th>55</th>\n",
       "      <td>Team 56</td>\n",
       "      <td>1</td>\n",
       "      <td>35</td>\n",
       "      <td>38</td>\n",
       "      <td>8</td>\n",
       "      <td>11</td>\n",
       "      <td>19</td>\n",
       "      <td>36</td>\n",
       "      <td>55</td>\n",
       "      <td>-</td>\n",
       "      <td>-</td>\n",
       "      <td>2016_17</td>\n",
       "      <td>17</td>\n",
       "    </tr>\n",
       "    <tr>\n",
       "      <th>56</th>\n",
       "      <td>Team 57</td>\n",
       "      <td>1</td>\n",
       "      <td>34</td>\n",
       "      <td>38</td>\n",
       "      <td>8</td>\n",
       "      <td>10</td>\n",
       "      <td>20</td>\n",
       "      <td>38</td>\n",
       "      <td>66</td>\n",
       "      <td>-</td>\n",
       "      <td>-</td>\n",
       "      <td>2009-10</td>\n",
       "      <td>20</td>\n",
       "    </tr>\n",
       "    <tr>\n",
       "      <th>57</th>\n",
       "      <td>Team 58</td>\n",
       "      <td>1</td>\n",
       "      <td>22</td>\n",
       "      <td>30</td>\n",
       "      <td>7</td>\n",
       "      <td>8</td>\n",
       "      <td>15</td>\n",
       "      <td>37</td>\n",
       "      <td>57</td>\n",
       "      <td>-</td>\n",
       "      <td>-</td>\n",
       "      <td>1956-57</td>\n",
       "      <td>16</td>\n",
       "    </tr>\n",
       "    <tr>\n",
       "      <th>58</th>\n",
       "      <td>Team 59</td>\n",
       "      <td>1</td>\n",
       "      <td>19</td>\n",
       "      <td>30</td>\n",
       "      <td>7</td>\n",
       "      <td>5</td>\n",
       "      <td>18</td>\n",
       "      <td>51</td>\n",
       "      <td>85</td>\n",
       "      <td>-</td>\n",
       "      <td>-</td>\n",
       "      <td>1951~52</td>\n",
       "      <td>16</td>\n",
       "    </tr>\n",
       "    <tr>\n",
       "      <th>59</th>\n",
       "      <td>Team 60</td>\n",
       "      <td>1</td>\n",
       "      <td>14</td>\n",
       "      <td>30</td>\n",
       "      <td>5</td>\n",
       "      <td>4</td>\n",
       "      <td>21</td>\n",
       "      <td>34</td>\n",
       "      <td>65</td>\n",
       "      <td>-</td>\n",
       "      <td>-</td>\n",
       "      <td>1955-56</td>\n",
       "      <td>15</td>\n",
       "    </tr>\n",
       "  </tbody>\n",
       "</table>\n",
       "</div>"
      ],
      "text/plain": [
       "       Team  Tournament Score PlayedGames WonGames DrawnGames LostGames  \\\n",
       "55  Team 56           1    35          38        8         11        19   \n",
       "56  Team 57           1    34          38        8         10        20   \n",
       "57  Team 58           1    22          30        7          8        15   \n",
       "58  Team 59           1    19          30        7          5        18   \n",
       "59  Team 60           1    14          30        5          4        21   \n",
       "\n",
       "   BasketScored BasketGiven TournamentChampion Runner-up TeamLaunch  \\\n",
       "55           36          55                  -         -    2016_17   \n",
       "56           38          66                  -         -    2009-10   \n",
       "57           37          57                  -         -    1956-57   \n",
       "58           51          85                  -         -    1951~52   \n",
       "59           34          65                  -         -    1955-56   \n",
       "\n",
       "    HighestPositionHeld  \n",
       "55                   17  \n",
       "56                   20  \n",
       "57                   16  \n",
       "58                   16  \n",
       "59                   15  "
      ]
     },
     "execution_count": 13,
     "metadata": {},
     "output_type": "execute_result"
    }
   ],
   "source": [
    "basketball.tail(5)"
   ]
  },
  {
   "cell_type": "code",
   "execution_count": 12,
   "metadata": {},
   "outputs": [
    {
     "name": "stdout",
     "output_type": "stream",
     "text": [
      "<class 'pandas.core.frame.DataFrame'>\n",
      "Int64Index: 60 entries, 0 to 59\n",
      "Data columns (total 13 columns):\n",
      " #   Column               Non-Null Count  Dtype \n",
      "---  ------               --------------  ----- \n",
      " 0   Team                 60 non-null     object\n",
      " 1   Tournament           60 non-null     int64 \n",
      " 2   Score                60 non-null     object\n",
      " 3   PlayedGames          60 non-null     object\n",
      " 4   WonGames             60 non-null     object\n",
      " 5   DrawnGames           60 non-null     object\n",
      " 6   LostGames            60 non-null     object\n",
      " 7   BasketScored         60 non-null     object\n",
      " 8   BasketGiven          60 non-null     object\n",
      " 9   TournamentChampion   60 non-null     object\n",
      " 10  Runner-up            60 non-null     object\n",
      " 11  TeamLaunch           60 non-null     object\n",
      " 12  HighestPositionHeld  60 non-null     int64 \n",
      "dtypes: int64(2), object(11)\n",
      "memory usage: 6.6+ KB\n"
     ]
    }
   ],
   "source": [
    "basketball.info()"
   ]
  },
  {
   "cell_type": "code",
   "execution_count": 17,
   "metadata": {},
   "outputs": [],
   "source": [
    "#converting the score to numeric data so as to use for analysis\n",
    "basketball.Score = pd.to_numeric(basketball.Score)"
   ]
  },
  {
   "cell_type": "code",
   "execution_count": 18,
   "metadata": {},
   "outputs": [
    {
     "name": "stdout",
     "output_type": "stream",
     "text": [
      "<class 'pandas.core.frame.DataFrame'>\n",
      "Int64Index: 60 entries, 0 to 59\n",
      "Data columns (total 13 columns):\n",
      " #   Column               Non-Null Count  Dtype \n",
      "---  ------               --------------  ----- \n",
      " 0   Team                 60 non-null     object\n",
      " 1   Tournament           60 non-null     int64 \n",
      " 2   Score                60 non-null     int64 \n",
      " 3   PlayedGames          60 non-null     object\n",
      " 4   WonGames             60 non-null     object\n",
      " 5   DrawnGames           60 non-null     object\n",
      " 6   LostGames            60 non-null     object\n",
      " 7   BasketScored         60 non-null     object\n",
      " 8   BasketGiven          60 non-null     object\n",
      " 9   TournamentChampion   60 non-null     object\n",
      " 10  Runner-up            60 non-null     object\n",
      " 11  TeamLaunch           60 non-null     object\n",
      " 12  HighestPositionHeld  60 non-null     int64 \n",
      "dtypes: int64(3), object(10)\n",
      "memory usage: 6.6+ KB\n"
     ]
    }
   ],
   "source": [
    "basketball.info()"
   ]
  },
  {
   "cell_type": "code",
   "execution_count": 23,
   "metadata": {},
   "outputs": [],
   "source": [
    "#replacing all the values where it is '-' to NaN so as to find no of NaNs and fill in data if required\n",
    "basketball = basketball.replace('-',np.nan)"
   ]
  },
  {
   "cell_type": "code",
   "execution_count": 24,
   "metadata": {},
   "outputs": [
    {
     "data": {
      "text/html": [
       "<div>\n",
       "<style scoped>\n",
       "    .dataframe tbody tr th:only-of-type {\n",
       "        vertical-align: middle;\n",
       "    }\n",
       "\n",
       "    .dataframe tbody tr th {\n",
       "        vertical-align: top;\n",
       "    }\n",
       "\n",
       "    .dataframe thead th {\n",
       "        text-align: right;\n",
       "    }\n",
       "</style>\n",
       "<table border=\"1\" class=\"dataframe\">\n",
       "  <thead>\n",
       "    <tr style=\"text-align: right;\">\n",
       "      <th></th>\n",
       "      <th>Team</th>\n",
       "      <th>Tournament</th>\n",
       "      <th>Score</th>\n",
       "      <th>PlayedGames</th>\n",
       "      <th>WonGames</th>\n",
       "      <th>DrawnGames</th>\n",
       "      <th>LostGames</th>\n",
       "      <th>BasketScored</th>\n",
       "      <th>BasketGiven</th>\n",
       "      <th>TournamentChampion</th>\n",
       "      <th>Runner-up</th>\n",
       "      <th>TeamLaunch</th>\n",
       "      <th>HighestPositionHeld</th>\n",
       "    </tr>\n",
       "  </thead>\n",
       "  <tbody>\n",
       "    <tr>\n",
       "      <th>55</th>\n",
       "      <td>Team 56</td>\n",
       "      <td>1</td>\n",
       "      <td>35</td>\n",
       "      <td>38</td>\n",
       "      <td>8</td>\n",
       "      <td>11</td>\n",
       "      <td>19</td>\n",
       "      <td>36</td>\n",
       "      <td>55</td>\n",
       "      <td>NaN</td>\n",
       "      <td>NaN</td>\n",
       "      <td>2016_17</td>\n",
       "      <td>17</td>\n",
       "    </tr>\n",
       "    <tr>\n",
       "      <th>56</th>\n",
       "      <td>Team 57</td>\n",
       "      <td>1</td>\n",
       "      <td>34</td>\n",
       "      <td>38</td>\n",
       "      <td>8</td>\n",
       "      <td>10</td>\n",
       "      <td>20</td>\n",
       "      <td>38</td>\n",
       "      <td>66</td>\n",
       "      <td>NaN</td>\n",
       "      <td>NaN</td>\n",
       "      <td>2009-10</td>\n",
       "      <td>20</td>\n",
       "    </tr>\n",
       "    <tr>\n",
       "      <th>57</th>\n",
       "      <td>Team 58</td>\n",
       "      <td>1</td>\n",
       "      <td>22</td>\n",
       "      <td>30</td>\n",
       "      <td>7</td>\n",
       "      <td>8</td>\n",
       "      <td>15</td>\n",
       "      <td>37</td>\n",
       "      <td>57</td>\n",
       "      <td>NaN</td>\n",
       "      <td>NaN</td>\n",
       "      <td>1956-57</td>\n",
       "      <td>16</td>\n",
       "    </tr>\n",
       "    <tr>\n",
       "      <th>58</th>\n",
       "      <td>Team 59</td>\n",
       "      <td>1</td>\n",
       "      <td>19</td>\n",
       "      <td>30</td>\n",
       "      <td>7</td>\n",
       "      <td>5</td>\n",
       "      <td>18</td>\n",
       "      <td>51</td>\n",
       "      <td>85</td>\n",
       "      <td>NaN</td>\n",
       "      <td>NaN</td>\n",
       "      <td>1951~52</td>\n",
       "      <td>16</td>\n",
       "    </tr>\n",
       "    <tr>\n",
       "      <th>59</th>\n",
       "      <td>Team 60</td>\n",
       "      <td>1</td>\n",
       "      <td>14</td>\n",
       "      <td>30</td>\n",
       "      <td>5</td>\n",
       "      <td>4</td>\n",
       "      <td>21</td>\n",
       "      <td>34</td>\n",
       "      <td>65</td>\n",
       "      <td>NaN</td>\n",
       "      <td>NaN</td>\n",
       "      <td>1955-56</td>\n",
       "      <td>15</td>\n",
       "    </tr>\n",
       "  </tbody>\n",
       "</table>\n",
       "</div>"
      ],
      "text/plain": [
       "       Team  Tournament  Score PlayedGames WonGames DrawnGames LostGames  \\\n",
       "55  Team 56           1     35          38        8         11        19   \n",
       "56  Team 57           1     34          38        8         10        20   \n",
       "57  Team 58           1     22          30        7          8        15   \n",
       "58  Team 59           1     19          30        7          5        18   \n",
       "59  Team 60           1     14          30        5          4        21   \n",
       "\n",
       "   BasketScored BasketGiven TournamentChampion Runner-up TeamLaunch  \\\n",
       "55           36          55                NaN       NaN    2016_17   \n",
       "56           38          66                NaN       NaN    2009-10   \n",
       "57           37          57                NaN       NaN    1956-57   \n",
       "58           51          85                NaN       NaN    1951~52   \n",
       "59           34          65                NaN       NaN    1955-56   \n",
       "\n",
       "    HighestPositionHeld  \n",
       "55                   17  \n",
       "56                   20  \n",
       "57                   16  \n",
       "58                   16  \n",
       "59                   15  "
      ]
     },
     "execution_count": 24,
     "metadata": {},
     "output_type": "execute_result"
    }
   ],
   "source": [
    "basketball.tail(5)"
   ]
  },
  {
   "cell_type": "code",
   "execution_count": 25,
   "metadata": {},
   "outputs": [
    {
     "data": {
      "text/plain": [
       "Team                   False\n",
       "Tournament             False\n",
       "Score                  False\n",
       "PlayedGames            False\n",
       "WonGames               False\n",
       "DrawnGames             False\n",
       "LostGames              False\n",
       "BasketScored           False\n",
       "BasketGiven            False\n",
       "TournamentChampion      True\n",
       "Runner-up               True\n",
       "TeamLaunch             False\n",
       "HighestPositionHeld    False\n",
       "dtype: bool"
      ]
     },
     "execution_count": 25,
     "metadata": {},
     "output_type": "execute_result"
    }
   ],
   "source": [
    "basketball.isnull().any() "
   ]
  },
  {
   "cell_type": "code",
   "execution_count": 28,
   "metadata": {},
   "outputs": [
    {
     "data": {
      "text/plain": [
       "9"
      ]
     },
     "execution_count": 28,
     "metadata": {},
     "output_type": "execute_result"
    }
   ],
   "source": [
    "basketball['TournamentChampion'].count()"
   ]
  },
  {
   "cell_type": "code",
   "execution_count": 29,
   "metadata": {},
   "outputs": [
    {
     "data": {
      "text/plain": [
       "13"
      ]
     },
     "execution_count": 29,
     "metadata": {},
     "output_type": "execute_result"
    }
   ],
   "source": [
    "basketball['Runner-up'].count()"
   ]
  },
  {
   "cell_type": "code",
   "execution_count": 30,
   "metadata": {},
   "outputs": [],
   "source": [
    "#since we found out that only 9 rows are non null in tournament champion and only 13 rows are non null in runner up.\n",
    "#substituting rest all as 0 as this can be used to find best team\n",
    "basketball = basketball.replace(np.nan,0)"
   ]
  },
  {
   "cell_type": "code",
   "execution_count": 31,
   "metadata": {},
   "outputs": [
    {
     "data": {
      "text/plain": [
       "Team                   False\n",
       "Tournament             False\n",
       "Score                  False\n",
       "PlayedGames            False\n",
       "WonGames               False\n",
       "DrawnGames             False\n",
       "LostGames              False\n",
       "BasketScored           False\n",
       "BasketGiven            False\n",
       "TournamentChampion     False\n",
       "Runner-up              False\n",
       "TeamLaunch             False\n",
       "HighestPositionHeld    False\n",
       "dtype: bool"
      ]
     },
     "execution_count": 31,
     "metadata": {},
     "output_type": "execute_result"
    }
   ],
   "source": [
    "#as of now no nulls in the dataset\n",
    "basketball.isnull().any()"
   ]
  },
  {
   "cell_type": "code",
   "execution_count": 33,
   "metadata": {},
   "outputs": [
    {
     "data": {
      "text/html": [
       "<div>\n",
       "<style scoped>\n",
       "    .dataframe tbody tr th:only-of-type {\n",
       "        vertical-align: middle;\n",
       "    }\n",
       "\n",
       "    .dataframe tbody tr th {\n",
       "        vertical-align: top;\n",
       "    }\n",
       "\n",
       "    .dataframe thead th {\n",
       "        text-align: right;\n",
       "    }\n",
       "</style>\n",
       "<table border=\"1\" class=\"dataframe\">\n",
       "  <thead>\n",
       "    <tr style=\"text-align: right;\">\n",
       "      <th></th>\n",
       "      <th>Team</th>\n",
       "      <th>Tournament</th>\n",
       "      <th>Score</th>\n",
       "      <th>PlayedGames</th>\n",
       "      <th>WonGames</th>\n",
       "      <th>DrawnGames</th>\n",
       "      <th>LostGames</th>\n",
       "      <th>BasketScored</th>\n",
       "      <th>BasketGiven</th>\n",
       "      <th>TournamentChampion</th>\n",
       "      <th>Runner-up</th>\n",
       "      <th>TeamLaunch</th>\n",
       "      <th>HighestPositionHeld</th>\n",
       "    </tr>\n",
       "  </thead>\n",
       "  <tbody>\n",
       "    <tr>\n",
       "      <th>0</th>\n",
       "      <td>Team 1</td>\n",
       "      <td>86</td>\n",
       "      <td>4385</td>\n",
       "      <td>2762</td>\n",
       "      <td>1647</td>\n",
       "      <td>552</td>\n",
       "      <td>563</td>\n",
       "      <td>5947</td>\n",
       "      <td>3140</td>\n",
       "      <td>33</td>\n",
       "      <td>23</td>\n",
       "      <td>1929</td>\n",
       "      <td>1</td>\n",
       "    </tr>\n",
       "    <tr>\n",
       "      <th>1</th>\n",
       "      <td>Team 2</td>\n",
       "      <td>86</td>\n",
       "      <td>4262</td>\n",
       "      <td>2762</td>\n",
       "      <td>1581</td>\n",
       "      <td>573</td>\n",
       "      <td>608</td>\n",
       "      <td>5900</td>\n",
       "      <td>3114</td>\n",
       "      <td>25</td>\n",
       "      <td>25</td>\n",
       "      <td>1929</td>\n",
       "      <td>1</td>\n",
       "    </tr>\n",
       "    <tr>\n",
       "      <th>2</th>\n",
       "      <td>Team 3</td>\n",
       "      <td>80</td>\n",
       "      <td>3442</td>\n",
       "      <td>2614</td>\n",
       "      <td>1241</td>\n",
       "      <td>598</td>\n",
       "      <td>775</td>\n",
       "      <td>4534</td>\n",
       "      <td>3309</td>\n",
       "      <td>10</td>\n",
       "      <td>8</td>\n",
       "      <td>1929</td>\n",
       "      <td>1</td>\n",
       "    </tr>\n",
       "    <tr>\n",
       "      <th>3</th>\n",
       "      <td>Team 4</td>\n",
       "      <td>82</td>\n",
       "      <td>3386</td>\n",
       "      <td>2664</td>\n",
       "      <td>1187</td>\n",
       "      <td>616</td>\n",
       "      <td>861</td>\n",
       "      <td>4398</td>\n",
       "      <td>3469</td>\n",
       "      <td>6</td>\n",
       "      <td>6</td>\n",
       "      <td>1931</td>\n",
       "      <td>1</td>\n",
       "    </tr>\n",
       "    <tr>\n",
       "      <th>4</th>\n",
       "      <td>Team 5</td>\n",
       "      <td>86</td>\n",
       "      <td>3368</td>\n",
       "      <td>2762</td>\n",
       "      <td>1209</td>\n",
       "      <td>633</td>\n",
       "      <td>920</td>\n",
       "      <td>4631</td>\n",
       "      <td>3700</td>\n",
       "      <td>8</td>\n",
       "      <td>7</td>\n",
       "      <td>1929</td>\n",
       "      <td>1</td>\n",
       "    </tr>\n",
       "  </tbody>\n",
       "</table>\n",
       "</div>"
      ],
      "text/plain": [
       "     Team  Tournament  Score PlayedGames WonGames DrawnGames LostGames  \\\n",
       "0  Team 1          86   4385        2762     1647        552       563   \n",
       "1  Team 2          86   4262        2762     1581        573       608   \n",
       "2  Team 3          80   3442        2614     1241        598       775   \n",
       "3  Team 4          82   3386        2664     1187        616       861   \n",
       "4  Team 5          86   3368        2762     1209        633       920   \n",
       "\n",
       "  BasketScored BasketGiven TournamentChampion Runner-up TeamLaunch  \\\n",
       "0         5947        3140                 33        23       1929   \n",
       "1         5900        3114                 25        25       1929   \n",
       "2         4534        3309                 10         8       1929   \n",
       "3         4398        3469                  6         6       1931   \n",
       "4         4631        3700                  8         7       1929   \n",
       "\n",
       "   HighestPositionHeld  \n",
       "0                    1  \n",
       "1                    1  \n",
       "2                    1  \n",
       "3                    1  \n",
       "4                    1  "
      ]
     },
     "execution_count": 33,
     "metadata": {},
     "output_type": "execute_result"
    }
   ],
   "source": [
    "#extracting only the first year (first 4 digits) from the year launch column so as to find the oldest / newest team\n",
    "basketball['TeamLaunch'] = basketball['TeamLaunch'].str.extract(r'^(\\d{4})', expand=False)\n",
    "basketball.head()\n",
    "#now our dataset is ready for analysis"
   ]
  },
  {
   "cell_type": "markdown",
   "metadata": {},
   "source": [
    "### DATA INTERPRETATION"
   ]
  },
  {
   "cell_type": "code",
   "execution_count": 40,
   "metadata": {},
   "outputs": [
    {
     "data": {
      "text/html": [
       "<div>\n",
       "<style scoped>\n",
       "    .dataframe tbody tr th:only-of-type {\n",
       "        vertical-align: middle;\n",
       "    }\n",
       "\n",
       "    .dataframe tbody tr th {\n",
       "        vertical-align: top;\n",
       "    }\n",
       "\n",
       "    .dataframe thead th {\n",
       "        text-align: right;\n",
       "    }\n",
       "</style>\n",
       "<table border=\"1\" class=\"dataframe\">\n",
       "  <thead>\n",
       "    <tr style=\"text-align: right;\">\n",
       "      <th></th>\n",
       "      <th>count</th>\n",
       "      <th>mean</th>\n",
       "      <th>std</th>\n",
       "      <th>min</th>\n",
       "      <th>25%</th>\n",
       "      <th>50%</th>\n",
       "      <th>75%</th>\n",
       "      <th>max</th>\n",
       "    </tr>\n",
       "  </thead>\n",
       "  <tbody>\n",
       "    <tr>\n",
       "      <th>Tournament</th>\n",
       "      <td>60.0</td>\n",
       "      <td>24.383333</td>\n",
       "      <td>26.884620</td>\n",
       "      <td>1.0</td>\n",
       "      <td>4.00</td>\n",
       "      <td>12.0</td>\n",
       "      <td>39.00</td>\n",
       "      <td>86.0</td>\n",
       "    </tr>\n",
       "    <tr>\n",
       "      <th>Score</th>\n",
       "      <td>60.0</td>\n",
       "      <td>916.450000</td>\n",
       "      <td>1138.342899</td>\n",
       "      <td>14.0</td>\n",
       "      <td>104.25</td>\n",
       "      <td>395.5</td>\n",
       "      <td>1360.50</td>\n",
       "      <td>4385.0</td>\n",
       "    </tr>\n",
       "    <tr>\n",
       "      <th>PlayedGames</th>\n",
       "      <td>60.0</td>\n",
       "      <td>810.100000</td>\n",
       "      <td>877.465393</td>\n",
       "      <td>30.0</td>\n",
       "      <td>115.50</td>\n",
       "      <td>424.5</td>\n",
       "      <td>1345.50</td>\n",
       "      <td>2762.0</td>\n",
       "    </tr>\n",
       "    <tr>\n",
       "      <th>WonGames</th>\n",
       "      <td>60.0</td>\n",
       "      <td>309.033333</td>\n",
       "      <td>408.481395</td>\n",
       "      <td>5.0</td>\n",
       "      <td>34.75</td>\n",
       "      <td>124.0</td>\n",
       "      <td>432.75</td>\n",
       "      <td>1647.0</td>\n",
       "    </tr>\n",
       "    <tr>\n",
       "      <th>DrawnGames</th>\n",
       "      <td>60.0</td>\n",
       "      <td>192.083333</td>\n",
       "      <td>201.985508</td>\n",
       "      <td>4.0</td>\n",
       "      <td>26.25</td>\n",
       "      <td>98.5</td>\n",
       "      <td>331.50</td>\n",
       "      <td>633.0</td>\n",
       "    </tr>\n",
       "    <tr>\n",
       "      <th>LostGames</th>\n",
       "      <td>60.0</td>\n",
       "      <td>308.816667</td>\n",
       "      <td>294.508639</td>\n",
       "      <td>15.0</td>\n",
       "      <td>62.75</td>\n",
       "      <td>197.5</td>\n",
       "      <td>563.50</td>\n",
       "      <td>1070.0</td>\n",
       "    </tr>\n",
       "    <tr>\n",
       "      <th>BasketScored</th>\n",
       "      <td>60.0</td>\n",
       "      <td>1159.350000</td>\n",
       "      <td>1512.063948</td>\n",
       "      <td>34.0</td>\n",
       "      <td>154.50</td>\n",
       "      <td>444.0</td>\n",
       "      <td>1669.75</td>\n",
       "      <td>5947.0</td>\n",
       "    </tr>\n",
       "    <tr>\n",
       "      <th>BasketGiven</th>\n",
       "      <td>60.0</td>\n",
       "      <td>1159.233333</td>\n",
       "      <td>1163.946914</td>\n",
       "      <td>55.0</td>\n",
       "      <td>236.00</td>\n",
       "      <td>632.5</td>\n",
       "      <td>2001.25</td>\n",
       "      <td>3889.0</td>\n",
       "    </tr>\n",
       "    <tr>\n",
       "      <th>TournamentChampion</th>\n",
       "      <td>60.0</td>\n",
       "      <td>1.450000</td>\n",
       "      <td>5.515540</td>\n",
       "      <td>0.0</td>\n",
       "      <td>0.00</td>\n",
       "      <td>0.0</td>\n",
       "      <td>0.00</td>\n",
       "      <td>33.0</td>\n",
       "    </tr>\n",
       "    <tr>\n",
       "      <th>HighestPositionHeld</th>\n",
       "      <td>60.0</td>\n",
       "      <td>7.050000</td>\n",
       "      <td>5.315232</td>\n",
       "      <td>1.0</td>\n",
       "      <td>3.00</td>\n",
       "      <td>6.0</td>\n",
       "      <td>10.00</td>\n",
       "      <td>20.0</td>\n",
       "    </tr>\n",
       "  </tbody>\n",
       "</table>\n",
       "</div>"
      ],
      "text/plain": [
       "                     count         mean          std   min     25%    50%  \\\n",
       "Tournament            60.0    24.383333    26.884620   1.0    4.00   12.0   \n",
       "Score                 60.0   916.450000  1138.342899  14.0  104.25  395.5   \n",
       "PlayedGames           60.0   810.100000   877.465393  30.0  115.50  424.5   \n",
       "WonGames              60.0   309.033333   408.481395   5.0   34.75  124.0   \n",
       "DrawnGames            60.0   192.083333   201.985508   4.0   26.25   98.5   \n",
       "LostGames             60.0   308.816667   294.508639  15.0   62.75  197.5   \n",
       "BasketScored          60.0  1159.350000  1512.063948  34.0  154.50  444.0   \n",
       "BasketGiven           60.0  1159.233333  1163.946914  55.0  236.00  632.5   \n",
       "TournamentChampion    60.0     1.450000     5.515540   0.0    0.00    0.0   \n",
       "HighestPositionHeld   60.0     7.050000     5.315232   1.0    3.00    6.0   \n",
       "\n",
       "                         75%     max  \n",
       "Tournament             39.00    86.0  \n",
       "Score                1360.50  4385.0  \n",
       "PlayedGames          1345.50  2762.0  \n",
       "WonGames              432.75  1647.0  \n",
       "DrawnGames            331.50   633.0  \n",
       "LostGames             563.50  1070.0  \n",
       "BasketScored         1669.75  5947.0  \n",
       "BasketGiven          2001.25  3889.0  \n",
       "TournamentChampion      0.00    33.0  \n",
       "HighestPositionHeld    10.00    20.0  "
      ]
     },
     "execution_count": 40,
     "metadata": {},
     "output_type": "execute_result"
    }
   ],
   "source": [
    "basketball.Tournament = pd.to_numeric(basketball.Tournament)\n",
    "basketball.PlayedGames = pd.to_numeric(basketball.PlayedGames)\n",
    "basketball.WonGames = pd.to_numeric(basketball.WonGames)\n",
    "basketball.DrawnGames = pd.to_numeric(basketball.DrawnGames)\n",
    "basketball.LostGames = pd.to_numeric(basketball.LostGames)\n",
    "basketball.BasketScored = pd.to_numeric(basketball.BasketScored)\n",
    "basketball.BasketGiven = pd.to_numeric(basketball.BasketGiven)\n",
    "basketball.TournamentChampion = pd.to_numeric(basketball.TournamentChampion)\n",
    "#basketball[Runner-up] = pd.to_numeric(basketball[Runner-up])\n",
    "\n",
    "basketball.describe().transpose()"
   ]
  },
  {
   "cell_type": "code",
   "execution_count": 49,
   "metadata": {},
   "outputs": [],
   "source": [
    "import matplotlib.pyplot as plt\n",
    "import seaborn as sns"
   ]
  },
  {
   "cell_type": "code",
   "execution_count": 74,
   "metadata": {},
   "outputs": [
    {
     "name": "stderr",
     "output_type": "stream",
     "text": [
      "D:\\shriy\\anaconda\\lib\\site-packages\\seaborn\\distributions.py:2551: FutureWarning: `distplot` is a deprecated function and will be removed in a future version. Please adapt your code to use either `displot` (a figure-level function with similar flexibility) or `histplot` (an axes-level function for histograms).\n",
      "  warnings.warn(msg, FutureWarning)\n"
     ]
    },
    {
     "data": {
      "text/plain": [
       "<AxesSubplot:xlabel='TeamLaunch', ylabel='Density'>"
      ]
     },
     "execution_count": 74,
     "metadata": {},
     "output_type": "execute_result"
    },
    {
     "data": {
      "image/png": "[encoded data removed]",
      "text/plain": [
       "<Figure size 432x288 with 1 Axes>"
      ]
     },
     "metadata": {},
     "output_type": "display_data"
    }
   ],
   "source": [
    "sns.distplot(basketball['TeamLaunch'])"
   ]
  },
  {
   "cell_type": "code",
   "execution_count": 61,
   "metadata": {},
   "outputs": [
    {
     "data": {
      "text/html": [
       "<div>\n",
       "<style scoped>\n",
       "    .dataframe tbody tr th:only-of-type {\n",
       "        vertical-align: middle;\n",
       "    }\n",
       "\n",
       "    .dataframe tbody tr th {\n",
       "        vertical-align: top;\n",
       "    }\n",
       "\n",
       "    .dataframe thead th {\n",
       "        text-align: right;\n",
       "    }\n",
       "</style>\n",
       "<table border=\"1\" class=\"dataframe\">\n",
       "  <thead>\n",
       "    <tr style=\"text-align: right;\">\n",
       "      <th></th>\n",
       "      <th>Team</th>\n",
       "    </tr>\n",
       "    <tr>\n",
       "      <th>TeamLaunch</th>\n",
       "      <th></th>\n",
       "    </tr>\n",
       "  </thead>\n",
       "  <tbody>\n",
       "    <tr>\n",
       "      <th>1929</th>\n",
       "      <td>10</td>\n",
       "    </tr>\n",
       "    <tr>\n",
       "      <th>1941</th>\n",
       "      <td>3</td>\n",
       "    </tr>\n",
       "    <tr>\n",
       "      <th>1935</th>\n",
       "      <td>2</td>\n",
       "    </tr>\n",
       "    <tr>\n",
       "      <th>1977</th>\n",
       "      <td>2</td>\n",
       "    </tr>\n",
       "    <tr>\n",
       "      <th>1951</th>\n",
       "      <td>2</td>\n",
       "    </tr>\n",
       "  </tbody>\n",
       "</table>\n",
       "</div>"
      ],
      "text/plain": [
       "            Team\n",
       "TeamLaunch      \n",
       "1929          10\n",
       "1941           3\n",
       "1935           2\n",
       "1977           2\n",
       "1951           2"
      ]
     },
     "execution_count": 61,
     "metadata": {},
     "output_type": "execute_result"
    }
   ],
   "source": [
    "df = basketball[['Team', 'TeamLaunch']].groupby('TeamLaunch').count()\n",
    "df.sort_values(by ='Team', ascending = False).head(5)\n",
    "#Thus most of teams were started in 1929"
   ]
  },
  {
   "cell_type": "code",
   "execution_count": 57,
   "metadata": {},
   "outputs": [
    {
     "data": {
      "text/html": [
       "<div>\n",
       "<style scoped>\n",
       "    .dataframe tbody tr th:only-of-type {\n",
       "        vertical-align: middle;\n",
       "    }\n",
       "\n",
       "    .dataframe tbody tr th {\n",
       "        vertical-align: top;\n",
       "    }\n",
       "\n",
       "    .dataframe thead th {\n",
       "        text-align: right;\n",
       "    }\n",
       "</style>\n",
       "<table border=\"1\" class=\"dataframe\">\n",
       "  <thead>\n",
       "    <tr style=\"text-align: right;\">\n",
       "      <th></th>\n",
       "      <th>Team</th>\n",
       "      <th>Tournament</th>\n",
       "      <th>Score</th>\n",
       "      <th>PlayedGames</th>\n",
       "      <th>WonGames</th>\n",
       "      <th>DrawnGames</th>\n",
       "      <th>LostGames</th>\n",
       "      <th>BasketScored</th>\n",
       "      <th>BasketGiven</th>\n",
       "      <th>TournamentChampion</th>\n",
       "      <th>Runner-up</th>\n",
       "      <th>TeamLaunch</th>\n",
       "      <th>HighestPositionHeld</th>\n",
       "    </tr>\n",
       "  </thead>\n",
       "  <tbody>\n",
       "    <tr>\n",
       "      <th>0</th>\n",
       "      <td>Team 1</td>\n",
       "      <td>86</td>\n",
       "      <td>4385</td>\n",
       "      <td>2762</td>\n",
       "      <td>1647</td>\n",
       "      <td>552</td>\n",
       "      <td>563</td>\n",
       "      <td>5947</td>\n",
       "      <td>3140</td>\n",
       "      <td>33</td>\n",
       "      <td>23</td>\n",
       "      <td>1929</td>\n",
       "      <td>1</td>\n",
       "    </tr>\n",
       "    <tr>\n",
       "      <th>1</th>\n",
       "      <td>Team 2</td>\n",
       "      <td>86</td>\n",
       "      <td>4262</td>\n",
       "      <td>2762</td>\n",
       "      <td>1581</td>\n",
       "      <td>573</td>\n",
       "      <td>608</td>\n",
       "      <td>5900</td>\n",
       "      <td>3114</td>\n",
       "      <td>25</td>\n",
       "      <td>25</td>\n",
       "      <td>1929</td>\n",
       "      <td>1</td>\n",
       "    </tr>\n",
       "    <tr>\n",
       "      <th>2</th>\n",
       "      <td>Team 3</td>\n",
       "      <td>80</td>\n",
       "      <td>3442</td>\n",
       "      <td>2614</td>\n",
       "      <td>1241</td>\n",
       "      <td>598</td>\n",
       "      <td>775</td>\n",
       "      <td>4534</td>\n",
       "      <td>3309</td>\n",
       "      <td>10</td>\n",
       "      <td>8</td>\n",
       "      <td>1929</td>\n",
       "      <td>1</td>\n",
       "    </tr>\n",
       "    <tr>\n",
       "      <th>4</th>\n",
       "      <td>Team 5</td>\n",
       "      <td>86</td>\n",
       "      <td>3368</td>\n",
       "      <td>2762</td>\n",
       "      <td>1209</td>\n",
       "      <td>633</td>\n",
       "      <td>920</td>\n",
       "      <td>4631</td>\n",
       "      <td>3700</td>\n",
       "      <td>8</td>\n",
       "      <td>7</td>\n",
       "      <td>1929</td>\n",
       "      <td>1</td>\n",
       "    </tr>\n",
       "    <tr>\n",
       "      <th>7</th>\n",
       "      <td>Team 8</td>\n",
       "      <td>70</td>\n",
       "      <td>2573</td>\n",
       "      <td>2302</td>\n",
       "      <td>864</td>\n",
       "      <td>577</td>\n",
       "      <td>861</td>\n",
       "      <td>3228</td>\n",
       "      <td>3230</td>\n",
       "      <td>2</td>\n",
       "      <td>3</td>\n",
       "      <td>1929</td>\n",
       "      <td>1</td>\n",
       "    </tr>\n",
       "  </tbody>\n",
       "</table>\n",
       "</div>"
      ],
      "text/plain": [
       "     Team  Tournament  Score  PlayedGames  WonGames  DrawnGames  LostGames  \\\n",
       "0  Team 1          86   4385         2762      1647         552        563   \n",
       "1  Team 2          86   4262         2762      1581         573        608   \n",
       "2  Team 3          80   3442         2614      1241         598        775   \n",
       "4  Team 5          86   3368         2762      1209         633        920   \n",
       "7  Team 8          70   2573         2302       864         577        861   \n",
       "\n",
       "   BasketScored  BasketGiven  TournamentChampion Runner-up TeamLaunch  \\\n",
       "0          5947         3140                  33        23       1929   \n",
       "1          5900         3114                  25        25       1929   \n",
       "2          4534         3309                  10         8       1929   \n",
       "4          4631         3700                   8         7       1929   \n",
       "7          3228         3230                   2         3       1929   \n",
       "\n",
       "   HighestPositionHeld  \n",
       "0                    1  \n",
       "1                    1  \n",
       "2                    1  \n",
       "4                    1  \n",
       "7                    1  "
      ]
     },
     "execution_count": 57,
     "metadata": {},
     "output_type": "execute_result"
    }
   ],
   "source": [
    "#These are the oldest teams and have been the tournament champions \n",
    "basketball[(basketball.TeamLaunch == '1929') & (basketball.TournamentChampion > 0)]"
   ]
  },
  {
   "cell_type": "code",
   "execution_count": 84,
   "metadata": {},
   "outputs": [
    {
     "data": {
      "text/plain": [
       "<seaborn.axisgrid.PairGrid at 0x1d271f68f10>"
      ]
     },
     "execution_count": 84,
     "metadata": {},
     "output_type": "execute_result"
    },
    {
     "data": {
      "image/png": "[encoded data removed]",
      "text/plain": [
       "<Figure size 360x360 with 6 Axes>"
      ]
     },
     "metadata": {},
     "output_type": "display_data"
    }
   ],
   "source": [
    "#relationship between PlayedGames and Basketscored\n",
    "sns.pairplot(basketball[['PlayedGames','BasketScored']])"
   ]
  },
  {
   "cell_type": "code",
   "execution_count": 81,
   "metadata": {},
   "outputs": [
    {
     "name": "stderr",
     "output_type": "stream",
     "text": [
      "D:\\shriy\\anaconda\\lib\\site-packages\\seaborn\\_decorators.py:36: FutureWarning: Pass the following variables as keyword args: x, y. From version 0.12, the only valid positional argument will be `data`, and passing other arguments without an explicit keyword will result in an error or misinterpretation.\n",
      "  warnings.warn(\n"
     ]
    },
    {
     "data": {
      "text/plain": [
       "<AxesSubplot:xlabel='TeamLaunch', ylabel='PlayedGames'>"
      ]
     },
     "execution_count": 81,
     "metadata": {},
     "output_type": "execute_result"
    },
    {
     "data": {
      "image/png": "[encoded data removed]",
      "text/plain": [
       "<Figure size 1440x720 with 1 Axes>"
      ]
     },
     "metadata": {},
     "output_type": "display_data"
    }
   ],
   "source": [
    "plt.figure(figsize=(20,10))\n",
    "#yearwise the games which are played\n",
    "sns.barplot(basketball['TeamLaunch'], basketball['PlayedGames'])\n",
    "#we can see the max games played by the teams that launched in 1931"
   ]
  },
  {
   "cell_type": "code",
   "execution_count": 82,
   "metadata": {},
   "outputs": [
    {
     "data": {
      "text/html": [
       "<div>\n",
       "<style scoped>\n",
       "    .dataframe tbody tr th:only-of-type {\n",
       "        vertical-align: middle;\n",
       "    }\n",
       "\n",
       "    .dataframe tbody tr th {\n",
       "        vertical-align: top;\n",
       "    }\n",
       "\n",
       "    .dataframe thead th {\n",
       "        text-align: right;\n",
       "    }\n",
       "</style>\n",
       "<table border=\"1\" class=\"dataframe\">\n",
       "  <thead>\n",
       "    <tr style=\"text-align: right;\">\n",
       "      <th></th>\n",
       "      <th>PlayedGames</th>\n",
       "      <th>WonGames</th>\n",
       "      <th>LostGames</th>\n",
       "      <th>DrawnGames</th>\n",
       "    </tr>\n",
       "  </thead>\n",
       "  <tbody>\n",
       "    <tr>\n",
       "      <th>PlayedGames</th>\n",
       "      <td>1.000000</td>\n",
       "      <td>0.967486</td>\n",
       "      <td>0.955925</td>\n",
       "      <td>0.993972</td>\n",
       "    </tr>\n",
       "    <tr>\n",
       "      <th>WonGames</th>\n",
       "      <td>0.967486</td>\n",
       "      <td>1.000000</td>\n",
       "      <td>0.851436</td>\n",
       "      <td>0.939416</td>\n",
       "    </tr>\n",
       "    <tr>\n",
       "      <th>LostGames</th>\n",
       "      <td>0.955925</td>\n",
       "      <td>0.851436</td>\n",
       "      <td>1.000000</td>\n",
       "      <td>0.972786</td>\n",
       "    </tr>\n",
       "    <tr>\n",
       "      <th>DrawnGames</th>\n",
       "      <td>0.993972</td>\n",
       "      <td>0.939416</td>\n",
       "      <td>0.972786</td>\n",
       "      <td>1.000000</td>\n",
       "    </tr>\n",
       "  </tbody>\n",
       "</table>\n",
       "</div>"
      ],
      "text/plain": [
       "             PlayedGames  WonGames  LostGames  DrawnGames\n",
       "PlayedGames     1.000000  0.967486   0.955925    0.993972\n",
       "WonGames        0.967486  1.000000   0.851436    0.939416\n",
       "LostGames       0.955925  0.851436   1.000000    0.972786\n",
       "DrawnGames      0.993972  0.939416   0.972786    1.000000"
      ]
     },
     "execution_count": 82,
     "metadata": {},
     "output_type": "execute_result"
    }
   ],
   "source": [
    "#correlation between the Played, Won, Lost, Drawn Games\n",
    "#we see there is high correlation between Played, Won, Lost, Drawn games as Played = Total of Won + Lost + Drawn\n",
    "cor = basketball[['PlayedGames', \n",
    "              'WonGames', \n",
    "              'LostGames', \n",
    "              'DrawnGames']].corr()\n",
    "cor"
   ]
  },
  {
   "cell_type": "code",
   "execution_count": 83,
   "metadata": {},
   "outputs": [
    {
     "data": {
      "image/png": "[encoded data removed]",
      "text/plain": [
       "<Figure size 540x540 with 12 Axes>"
      ]
     },
     "metadata": {},
     "output_type": "display_data"
    }
   ],
   "source": [
    "#realtionships between Tournaments played, Baskets scored, baskets given\n",
    "sns.pairplot(basketball[['Tournament', 'BasketScored', 'BasketGiven']]);"
   ]
  },
  {
   "cell_type": "code",
   "execution_count": 85,
   "metadata": {},
   "outputs": [
    {
     "name": "stderr",
     "output_type": "stream",
     "text": [
      "D:\\shriy\\anaconda\\lib\\site-packages\\seaborn\\_decorators.py:36: FutureWarning: Pass the following variable as a keyword arg: x. From version 0.12, the only valid positional argument will be `data`, and passing other arguments without an explicit keyword will result in an error or misinterpretation.\n",
      "  warnings.warn(\n"
     ]
    },
    {
     "data": {
      "text/plain": [
       "<AxesSubplot:xlabel='WonGames'>"
      ]
     },
     "execution_count": 85,
     "metadata": {},
     "output_type": "execute_result"
    },
    {
     "data": {
      "image/png": "[encoded data removed]",
      "text/plain": [
       "<Figure size 432x288 with 1 Axes>"
      ]
     },
     "metadata": {},
     "output_type": "display_data"
    }
   ],
   "source": [
    "sns.boxplot(basketball['WonGames'])"
   ]
  },
  {
   "cell_type": "code",
   "execution_count": 87,
   "metadata": {},
   "outputs": [
    {
     "data": {
      "text/html": [
       "<div>\n",
       "<style scoped>\n",
       "    .dataframe tbody tr th:only-of-type {\n",
       "        vertical-align: middle;\n",
       "    }\n",
       "\n",
       "    .dataframe tbody tr th {\n",
       "        vertical-align: top;\n",
       "    }\n",
       "\n",
       "    .dataframe thead th {\n",
       "        text-align: right;\n",
       "    }\n",
       "</style>\n",
       "<table border=\"1\" class=\"dataframe\">\n",
       "  <thead>\n",
       "    <tr style=\"text-align: right;\">\n",
       "      <th></th>\n",
       "      <th>Team</th>\n",
       "      <th>Tournament</th>\n",
       "      <th>Score</th>\n",
       "      <th>PlayedGames</th>\n",
       "      <th>WonGames</th>\n",
       "      <th>DrawnGames</th>\n",
       "      <th>LostGames</th>\n",
       "      <th>BasketScored</th>\n",
       "      <th>BasketGiven</th>\n",
       "      <th>TournamentChampion</th>\n",
       "      <th>Runner-up</th>\n",
       "      <th>TeamLaunch</th>\n",
       "      <th>HighestPositionHeld</th>\n",
       "    </tr>\n",
       "  </thead>\n",
       "  <tbody>\n",
       "    <tr>\n",
       "      <th>0</th>\n",
       "      <td>Team 1</td>\n",
       "      <td>86</td>\n",
       "      <td>4385</td>\n",
       "      <td>2762</td>\n",
       "      <td>1647</td>\n",
       "      <td>552</td>\n",
       "      <td>563</td>\n",
       "      <td>5947</td>\n",
       "      <td>3140</td>\n",
       "      <td>33</td>\n",
       "      <td>23</td>\n",
       "      <td>1929</td>\n",
       "      <td>1</td>\n",
       "    </tr>\n",
       "    <tr>\n",
       "      <th>1</th>\n",
       "      <td>Team 2</td>\n",
       "      <td>86</td>\n",
       "      <td>4262</td>\n",
       "      <td>2762</td>\n",
       "      <td>1581</td>\n",
       "      <td>573</td>\n",
       "      <td>608</td>\n",
       "      <td>5900</td>\n",
       "      <td>3114</td>\n",
       "      <td>25</td>\n",
       "      <td>25</td>\n",
       "      <td>1929</td>\n",
       "      <td>1</td>\n",
       "    </tr>\n",
       "    <tr>\n",
       "      <th>2</th>\n",
       "      <td>Team 3</td>\n",
       "      <td>80</td>\n",
       "      <td>3442</td>\n",
       "      <td>2614</td>\n",
       "      <td>1241</td>\n",
       "      <td>598</td>\n",
       "      <td>775</td>\n",
       "      <td>4534</td>\n",
       "      <td>3309</td>\n",
       "      <td>10</td>\n",
       "      <td>8</td>\n",
       "      <td>1929</td>\n",
       "      <td>1</td>\n",
       "    </tr>\n",
       "    <tr>\n",
       "      <th>4</th>\n",
       "      <td>Team 5</td>\n",
       "      <td>86</td>\n",
       "      <td>3368</td>\n",
       "      <td>2762</td>\n",
       "      <td>1209</td>\n",
       "      <td>633</td>\n",
       "      <td>920</td>\n",
       "      <td>4631</td>\n",
       "      <td>3700</td>\n",
       "      <td>8</td>\n",
       "      <td>7</td>\n",
       "      <td>1929</td>\n",
       "      <td>1</td>\n",
       "    </tr>\n",
       "    <tr>\n",
       "      <th>3</th>\n",
       "      <td>Team 4</td>\n",
       "      <td>82</td>\n",
       "      <td>3386</td>\n",
       "      <td>2664</td>\n",
       "      <td>1187</td>\n",
       "      <td>616</td>\n",
       "      <td>861</td>\n",
       "      <td>4398</td>\n",
       "      <td>3469</td>\n",
       "      <td>6</td>\n",
       "      <td>6</td>\n",
       "      <td>1931</td>\n",
       "      <td>1</td>\n",
       "    </tr>\n",
       "  </tbody>\n",
       "</table>\n",
       "</div>"
      ],
      "text/plain": [
       "     Team  Tournament  Score  PlayedGames  WonGames  DrawnGames  LostGames  \\\n",
       "0  Team 1          86   4385         2762      1647         552        563   \n",
       "1  Team 2          86   4262         2762      1581         573        608   \n",
       "2  Team 3          80   3442         2614      1241         598        775   \n",
       "4  Team 5          86   3368         2762      1209         633        920   \n",
       "3  Team 4          82   3386         2664      1187         616        861   \n",
       "\n",
       "   BasketScored  BasketGiven  TournamentChampion Runner-up TeamLaunch  \\\n",
       "0          5947         3140                  33        23       1929   \n",
       "1          5900         3114                  25        25       1929   \n",
       "2          4534         3309                  10         8       1929   \n",
       "4          4631         3700                   8         7       1929   \n",
       "3          4398         3469                   6         6       1931   \n",
       "\n",
       "   HighestPositionHeld  \n",
       "0                    1  \n",
       "1                    1  \n",
       "2                    1  \n",
       "4                    1  \n",
       "3                    1  "
      ]
     },
     "execution_count": 87,
     "metadata": {},
     "output_type": "execute_result"
    }
   ],
   "source": [
    "#Here we see these are the top 5 teams which have won more than thousand games \n",
    "df2 = basketball[basketball.WonGames>1000]\n",
    "df2.sort_values(by ='WonGames', ascending = False)"
   ]
  },
  {
   "cell_type": "code",
   "execution_count": 90,
   "metadata": {},
   "outputs": [
    {
     "data": {
      "text/html": [
       "<div>\n",
       "<style scoped>\n",
       "    .dataframe tbody tr th:only-of-type {\n",
       "        vertical-align: middle;\n",
       "    }\n",
       "\n",
       "    .dataframe tbody tr th {\n",
       "        vertical-align: top;\n",
       "    }\n",
       "\n",
       "    .dataframe thead th {\n",
       "        text-align: right;\n",
       "    }\n",
       "</style>\n",
       "<table border=\"1\" class=\"dataframe\">\n",
       "  <thead>\n",
       "    <tr style=\"text-align: right;\">\n",
       "      <th></th>\n",
       "      <th>Team</th>\n",
       "      <th>Tournament</th>\n",
       "      <th>Score</th>\n",
       "      <th>PlayedGames</th>\n",
       "      <th>WonGames</th>\n",
       "      <th>DrawnGames</th>\n",
       "      <th>LostGames</th>\n",
       "      <th>BasketScored</th>\n",
       "      <th>BasketGiven</th>\n",
       "      <th>TournamentChampion</th>\n",
       "      <th>Runner-up</th>\n",
       "      <th>TeamLaunch</th>\n",
       "      <th>HighestPositionHeld</th>\n",
       "    </tr>\n",
       "  </thead>\n",
       "  <tbody>\n",
       "    <tr>\n",
       "      <th>0</th>\n",
       "      <td>Team 1</td>\n",
       "      <td>86</td>\n",
       "      <td>4385</td>\n",
       "      <td>2762</td>\n",
       "      <td>1647</td>\n",
       "      <td>552</td>\n",
       "      <td>563</td>\n",
       "      <td>5947</td>\n",
       "      <td>3140</td>\n",
       "      <td>33</td>\n",
       "      <td>23</td>\n",
       "      <td>1929</td>\n",
       "      <td>1</td>\n",
       "    </tr>\n",
       "    <tr>\n",
       "      <th>1</th>\n",
       "      <td>Team 2</td>\n",
       "      <td>86</td>\n",
       "      <td>4262</td>\n",
       "      <td>2762</td>\n",
       "      <td>1581</td>\n",
       "      <td>573</td>\n",
       "      <td>608</td>\n",
       "      <td>5900</td>\n",
       "      <td>3114</td>\n",
       "      <td>25</td>\n",
       "      <td>25</td>\n",
       "      <td>1929</td>\n",
       "      <td>1</td>\n",
       "    </tr>\n",
       "    <tr>\n",
       "      <th>4</th>\n",
       "      <td>Team 5</td>\n",
       "      <td>86</td>\n",
       "      <td>3368</td>\n",
       "      <td>2762</td>\n",
       "      <td>1209</td>\n",
       "      <td>633</td>\n",
       "      <td>920</td>\n",
       "      <td>4631</td>\n",
       "      <td>3700</td>\n",
       "      <td>8</td>\n",
       "      <td>7</td>\n",
       "      <td>1929</td>\n",
       "      <td>1</td>\n",
       "    </tr>\n",
       "    <tr>\n",
       "      <th>2</th>\n",
       "      <td>Team 3</td>\n",
       "      <td>80</td>\n",
       "      <td>3442</td>\n",
       "      <td>2614</td>\n",
       "      <td>1241</td>\n",
       "      <td>598</td>\n",
       "      <td>775</td>\n",
       "      <td>4534</td>\n",
       "      <td>3309</td>\n",
       "      <td>10</td>\n",
       "      <td>8</td>\n",
       "      <td>1929</td>\n",
       "      <td>1</td>\n",
       "    </tr>\n",
       "    <tr>\n",
       "      <th>3</th>\n",
       "      <td>Team 4</td>\n",
       "      <td>82</td>\n",
       "      <td>3386</td>\n",
       "      <td>2664</td>\n",
       "      <td>1187</td>\n",
       "      <td>616</td>\n",
       "      <td>861</td>\n",
       "      <td>4398</td>\n",
       "      <td>3469</td>\n",
       "      <td>6</td>\n",
       "      <td>6</td>\n",
       "      <td>1931</td>\n",
       "      <td>1</td>\n",
       "    </tr>\n",
       "  </tbody>\n",
       "</table>\n",
       "</div>"
      ],
      "text/plain": [
       "     Team  Tournament  Score  PlayedGames  WonGames  DrawnGames  LostGames  \\\n",
       "0  Team 1          86   4385         2762      1647         552        563   \n",
       "1  Team 2          86   4262         2762      1581         573        608   \n",
       "4  Team 5          86   3368         2762      1209         633        920   \n",
       "2  Team 3          80   3442         2614      1241         598        775   \n",
       "3  Team 4          82   3386         2664      1187         616        861   \n",
       "\n",
       "   BasketScored  BasketGiven  TournamentChampion Runner-up TeamLaunch  \\\n",
       "0          5947         3140                  33        23       1929   \n",
       "1          5900         3114                  25        25       1929   \n",
       "4          4631         3700                   8         7       1929   \n",
       "2          4534         3309                  10         8       1929   \n",
       "3          4398         3469                   6         6       1931   \n",
       "\n",
       "   HighestPositionHeld  \n",
       "0                    1  \n",
       "1                    1  \n",
       "4                    1  \n",
       "2                    1  \n",
       "3                    1  "
      ]
     },
     "execution_count": 90,
     "metadata": {},
     "output_type": "execute_result"
    }
   ],
   "source": [
    "#Here there are top 5 teams who scored more baskets rather than giving more baskets \n",
    "df3 = basketball[basketball.BasketScored>basketball.BasketGiven]\n",
    "df3.sort_values(by ='BasketScored', ascending = False).head(5)"
   ]
  },
  {
   "cell_type": "code",
   "execution_count": 94,
   "metadata": {},
   "outputs": [
    {
     "name": "stderr",
     "output_type": "stream",
     "text": [
      "D:\\shriy\\anaconda\\lib\\site-packages\\seaborn\\_decorators.py:36: FutureWarning: Pass the following variables as keyword args: x, y. From version 0.12, the only valid positional argument will be `data`, and passing other arguments without an explicit keyword will result in an error or misinterpretation.\n",
      "  warnings.warn(\n"
     ]
    },
    {
     "data": {
      "image/png": "[encoded data removed]",
      "text/plain": [
       "<Figure size 432x288 with 1 Axes>"
      ]
     },
     "metadata": {},
     "output_type": "display_data"
    }
   ],
   "source": [
    "sns.stripplot(df3['Team'],df3['BasketScored'], jitter=True);"
   ]
  },
  {
   "cell_type": "code",
   "execution_count": 96,
   "metadata": {},
   "outputs": [
    {
     "data": {
      "text/html": [
       "<div>\n",
       "<style scoped>\n",
       "    .dataframe tbody tr th:only-of-type {\n",
       "        vertical-align: middle;\n",
       "    }\n",
       "\n",
       "    .dataframe tbody tr th {\n",
       "        vertical-align: top;\n",
       "    }\n",
       "\n",
       "    .dataframe thead th {\n",
       "        text-align: right;\n",
       "    }\n",
       "</style>\n",
       "<table border=\"1\" class=\"dataframe\">\n",
       "  <thead>\n",
       "    <tr style=\"text-align: right;\">\n",
       "      <th></th>\n",
       "      <th>Team</th>\n",
       "      <th>Tournament</th>\n",
       "      <th>Score</th>\n",
       "      <th>PlayedGames</th>\n",
       "      <th>WonGames</th>\n",
       "      <th>DrawnGames</th>\n",
       "      <th>LostGames</th>\n",
       "      <th>BasketScored</th>\n",
       "      <th>BasketGiven</th>\n",
       "      <th>TournamentChampion</th>\n",
       "      <th>Runner-up</th>\n",
       "      <th>TeamLaunch</th>\n",
       "      <th>HighestPositionHeld</th>\n",
       "    </tr>\n",
       "  </thead>\n",
       "  <tbody>\n",
       "    <tr>\n",
       "      <th>0</th>\n",
       "      <td>Team 1</td>\n",
       "      <td>86</td>\n",
       "      <td>4385</td>\n",
       "      <td>2762</td>\n",
       "      <td>1647</td>\n",
       "      <td>552</td>\n",
       "      <td>563</td>\n",
       "      <td>5947</td>\n",
       "      <td>3140</td>\n",
       "      <td>33</td>\n",
       "      <td>23</td>\n",
       "      <td>1929</td>\n",
       "      <td>1</td>\n",
       "    </tr>\n",
       "  </tbody>\n",
       "</table>\n",
       "</div>"
      ],
      "text/plain": [
       "     Team  Tournament  Score  PlayedGames  WonGames  DrawnGames  LostGames  \\\n",
       "0  Team 1          86   4385         2762      1647         552        563   \n",
       "\n",
       "   BasketScored  BasketGiven  TournamentChampion Runner-up TeamLaunch  \\\n",
       "0          5947         3140                  33        23       1929   \n",
       "\n",
       "   HighestPositionHeld  \n",
       "0                    1  "
      ]
     },
     "execution_count": 96,
     "metadata": {},
     "output_type": "execute_result"
    }
   ],
   "source": [
    "#The team with highest score\n",
    "basketball[basketball.Score == basketball.Score.max()]"
   ]
  },
  {
   "cell_type": "code",
   "execution_count": 99,
   "metadata": {},
   "outputs": [
    {
     "data": {
      "text/html": [
       "<div>\n",
       "<style scoped>\n",
       "    .dataframe tbody tr th:only-of-type {\n",
       "        vertical-align: middle;\n",
       "    }\n",
       "\n",
       "    .dataframe tbody tr th {\n",
       "        vertical-align: top;\n",
       "    }\n",
       "\n",
       "    .dataframe thead th {\n",
       "        text-align: right;\n",
       "    }\n",
       "</style>\n",
       "<table border=\"1\" class=\"dataframe\">\n",
       "  <thead>\n",
       "    <tr style=\"text-align: right;\">\n",
       "      <th></th>\n",
       "      <th>Team</th>\n",
       "      <th>Tournament</th>\n",
       "      <th>Score</th>\n",
       "      <th>PlayedGames</th>\n",
       "      <th>WonGames</th>\n",
       "      <th>DrawnGames</th>\n",
       "      <th>LostGames</th>\n",
       "      <th>BasketScored</th>\n",
       "      <th>BasketGiven</th>\n",
       "      <th>TournamentChampion</th>\n",
       "      <th>Runner-up</th>\n",
       "      <th>TeamLaunch</th>\n",
       "      <th>HighestPositionHeld</th>\n",
       "    </tr>\n",
       "  </thead>\n",
       "  <tbody>\n",
       "    <tr>\n",
       "      <th>59</th>\n",
       "      <td>Team 60</td>\n",
       "      <td>1</td>\n",
       "      <td>14</td>\n",
       "      <td>30</td>\n",
       "      <td>5</td>\n",
       "      <td>4</td>\n",
       "      <td>21</td>\n",
       "      <td>34</td>\n",
       "      <td>65</td>\n",
       "      <td>0</td>\n",
       "      <td>0</td>\n",
       "      <td>1955</td>\n",
       "      <td>15</td>\n",
       "    </tr>\n",
       "  </tbody>\n",
       "</table>\n",
       "</div>"
      ],
      "text/plain": [
       "       Team  Tournament  Score  PlayedGames  WonGames  DrawnGames  LostGames  \\\n",
       "59  Team 60           1     14           30         5           4         21   \n",
       "\n",
       "    BasketScored  BasketGiven  TournamentChampion Runner-up TeamLaunch  \\\n",
       "59            34           65                   0         0       1955   \n",
       "\n",
       "    HighestPositionHeld  \n",
       "59                   15  "
      ]
     },
     "execution_count": 99,
     "metadata": {},
     "output_type": "execute_result"
    }
   ],
   "source": [
    "#The team with lowest score\n",
    "basketball[basketball.Score == basketball.Score.min()]"
   ]
  },
  {
   "cell_type": "code",
   "execution_count": 98,
   "metadata": {},
   "outputs": [
    {
     "name": "stderr",
     "output_type": "stream",
     "text": [
      "D:\\shriy\\anaconda\\lib\\site-packages\\seaborn\\_decorators.py:36: FutureWarning: Pass the following variables as keyword args: x, y. From version 0.12, the only valid positional argument will be `data`, and passing other arguments without an explicit keyword will result in an error or misinterpretation.\n",
      "  warnings.warn(\n"
     ]
    },
    {
     "data": {
      "text/plain": [
       "<AxesSubplot:xlabel='HighestPositionHeld', ylabel='Team'>"
      ]
     },
     "execution_count": 98,
     "metadata": {},
     "output_type": "execute_result"
    },
    {
     "data": {
      "image/png": "[encoded data removed]",
      "text/plain": [
       "<Figure size 1440x1440 with 1 Axes>"
      ]
     },
     "metadata": {},
     "output_type": "display_data"
    }
   ],
   "source": [
    "plt.figure(figsize=(20,20))\n",
    "sns.barplot(basketball['HighestPositionHeld'], basketball['Team'])"
   ]
  },
  {
   "cell_type": "markdown",
   "metadata": {},
   "source": [
    "### IMPROVEMENTS AND SUGGESTIONS\n",
    "1. Since the TotalGames = WinGames + LostGames + DrawnGames, 3 columns are sufficient as the 4th can be calculated with the rest of the three.\n",
    "2. The TournamentChampion column is not populated for many Teams, which is an important column.\n",
    "3. More categorical fields should be used so that more plots can be used to visualise and understand the data."
   ]
  },
  {
   "cell_type": "markdown",
   "metadata": {},
   "source": [
    "## PART 3\n",
    "Renamed the DS-Part3-CompanyX_EU.csv as CompanyX_EU.csv"
   ]
  },
  {
   "cell_type": "code",
   "execution_count": 102,
   "metadata": {
    "scrolled": true
   },
   "outputs": [
    {
     "data": {
      "text/html": [
       "<div>\n",
       "<style scoped>\n",
       "    .dataframe tbody tr th:only-of-type {\n",
       "        vertical-align: middle;\n",
       "    }\n",
       "\n",
       "    .dataframe tbody tr th {\n",
       "        vertical-align: top;\n",
       "    }\n",
       "\n",
       "    .dataframe thead th {\n",
       "        text-align: right;\n",
       "    }\n",
       "</style>\n",
       "<table border=\"1\" class=\"dataframe\">\n",
       "  <thead>\n",
       "    <tr style=\"text-align: right;\">\n",
       "      <th></th>\n",
       "      <th>Startup</th>\n",
       "      <th>Product</th>\n",
       "      <th>Funding</th>\n",
       "      <th>Event</th>\n",
       "      <th>Result</th>\n",
       "      <th>OperatingState</th>\n",
       "    </tr>\n",
       "  </thead>\n",
       "  <tbody>\n",
       "    <tr>\n",
       "      <th>0</th>\n",
       "      <td>2600Hz</td>\n",
       "      <td>2600hz.com</td>\n",
       "      <td>NaN</td>\n",
       "      <td>Disrupt SF 2013</td>\n",
       "      <td>Contestant</td>\n",
       "      <td>Operating</td>\n",
       "    </tr>\n",
       "    <tr>\n",
       "      <th>1</th>\n",
       "      <td>3DLT</td>\n",
       "      <td>3dlt.com</td>\n",
       "      <td>$630K</td>\n",
       "      <td>Disrupt NYC 2013</td>\n",
       "      <td>Contestant</td>\n",
       "      <td>Closed</td>\n",
       "    </tr>\n",
       "    <tr>\n",
       "      <th>2</th>\n",
       "      <td>3DPrinterOS</td>\n",
       "      <td>3dprinteros.com</td>\n",
       "      <td>NaN</td>\n",
       "      <td>Disrupt SF 2016</td>\n",
       "      <td>Contestant</td>\n",
       "      <td>Operating</td>\n",
       "    </tr>\n",
       "    <tr>\n",
       "      <th>3</th>\n",
       "      <td>3Dprintler</td>\n",
       "      <td>3dprintler.com</td>\n",
       "      <td>$1M</td>\n",
       "      <td>Disrupt NY 2016</td>\n",
       "      <td>Audience choice</td>\n",
       "      <td>Operating</td>\n",
       "    </tr>\n",
       "    <tr>\n",
       "      <th>4</th>\n",
       "      <td>42 Technologies</td>\n",
       "      <td>42technologies.com</td>\n",
       "      <td>NaN</td>\n",
       "      <td>Disrupt NYC 2013</td>\n",
       "      <td>Contestant</td>\n",
       "      <td>Operating</td>\n",
       "    </tr>\n",
       "    <tr>\n",
       "      <th>...</th>\n",
       "      <td>...</td>\n",
       "      <td>...</td>\n",
       "      <td>...</td>\n",
       "      <td>...</td>\n",
       "      <td>...</td>\n",
       "      <td>...</td>\n",
       "    </tr>\n",
       "    <tr>\n",
       "      <th>657</th>\n",
       "      <td>Zivity</td>\n",
       "      <td>zivity.com</td>\n",
       "      <td>$8M</td>\n",
       "      <td>TC40 2007</td>\n",
       "      <td>Contestant</td>\n",
       "      <td>Operating</td>\n",
       "    </tr>\n",
       "    <tr>\n",
       "      <th>658</th>\n",
       "      <td>Zmorph</td>\n",
       "      <td>zmorph3d.com</td>\n",
       "      <td>$1M</td>\n",
       "      <td>-</td>\n",
       "      <td>Audience choice</td>\n",
       "      <td>Operating</td>\n",
       "    </tr>\n",
       "    <tr>\n",
       "      <th>659</th>\n",
       "      <td>Zocdoc</td>\n",
       "      <td>zocdoc.com</td>\n",
       "      <td>$223M</td>\n",
       "      <td>TC40 2007</td>\n",
       "      <td>Contestant</td>\n",
       "      <td>Operating</td>\n",
       "    </tr>\n",
       "    <tr>\n",
       "      <th>660</th>\n",
       "      <td>Zula</td>\n",
       "      <td>zulaapp.com</td>\n",
       "      <td>$3.4M</td>\n",
       "      <td>Disrupt SF 2013</td>\n",
       "      <td>Audience choice</td>\n",
       "      <td>Operating</td>\n",
       "    </tr>\n",
       "    <tr>\n",
       "      <th>661</th>\n",
       "      <td>Zumper</td>\n",
       "      <td>zumper.com</td>\n",
       "      <td>$31.5M</td>\n",
       "      <td>Disrupt SF 2012</td>\n",
       "      <td>Finalist</td>\n",
       "      <td>Operating</td>\n",
       "    </tr>\n",
       "  </tbody>\n",
       "</table>\n",
       "<p>662 rows × 6 columns</p>\n",
       "</div>"
      ],
      "text/plain": [
       "             Startup             Product Funding             Event  \\\n",
       "0             2600Hz          2600hz.com     NaN   Disrupt SF 2013   \n",
       "1               3DLT            3dlt.com   $630K  Disrupt NYC 2013   \n",
       "2        3DPrinterOS     3dprinteros.com     NaN   Disrupt SF 2016   \n",
       "3         3Dprintler      3dprintler.com     $1M   Disrupt NY 2016   \n",
       "4    42 Technologies  42technologies.com     NaN  Disrupt NYC 2013   \n",
       "..               ...                 ...     ...               ...   \n",
       "657           Zivity          zivity.com     $8M         TC40 2007   \n",
       "658           Zmorph        zmorph3d.com     $1M                 -   \n",
       "659           Zocdoc          zocdoc.com   $223M         TC40 2007   \n",
       "660             Zula         zulaapp.com   $3.4M   Disrupt SF 2013   \n",
       "661           Zumper          zumper.com  $31.5M   Disrupt SF 2012   \n",
       "\n",
       "              Result OperatingState  \n",
       "0         Contestant      Operating  \n",
       "1         Contestant         Closed  \n",
       "2         Contestant      Operating  \n",
       "3    Audience choice      Operating  \n",
       "4         Contestant      Operating  \n",
       "..               ...            ...  \n",
       "657       Contestant      Operating  \n",
       "658  Audience choice      Operating  \n",
       "659       Contestant      Operating  \n",
       "660  Audience choice      Operating  \n",
       "661         Finalist      Operating  \n",
       "\n",
       "[662 rows x 6 columns]"
      ]
     },
     "execution_count": 102,
     "metadata": {},
     "output_type": "execute_result"
    }
   ],
   "source": [
    "company = pd.read_csv(\"CompanyX_EU.csv\")\n",
    "company"
   ]
  },
  {
   "cell_type": "markdown",
   "metadata": {},
   "source": [
    "## Data exploration, Data preprocessing & visualisation:"
   ]
  },
  {
   "cell_type": "code",
   "execution_count": 105,
   "metadata": {
    "scrolled": true
   },
   "outputs": [
    {
     "name": "stdout",
     "output_type": "stream",
     "text": [
      "<class 'pandas.core.frame.DataFrame'>\n",
      "RangeIndex: 662 entries, 0 to 661\n",
      "Data columns (total 6 columns):\n",
      " #   Column          Non-Null Count  Dtype \n",
      "---  ------          --------------  ----- \n",
      " 0   Startup         662 non-null    object\n",
      " 1   Product         656 non-null    object\n",
      " 2   Funding         448 non-null    object\n",
      " 3   Event           662 non-null    object\n",
      " 4   Result          662 non-null    object\n",
      " 5   OperatingState  662 non-null    object\n",
      "dtypes: object(6)\n",
      "memory usage: 31.2+ KB\n"
     ]
    }
   ],
   "source": [
    "company.info()"
   ]
  },
  {
   "cell_type": "code",
   "execution_count": 106,
   "metadata": {},
   "outputs": [
    {
     "data": {
      "text/plain": [
       "Startup           False\n",
       "Product            True\n",
       "Funding            True\n",
       "Event             False\n",
       "Result            False\n",
       "OperatingState    False\n",
       "dtype: bool"
      ]
     },
     "execution_count": 106,
     "metadata": {},
     "output_type": "execute_result"
    }
   ],
   "source": [
    "company.isnull().any()"
   ]
  },
  {
   "cell_type": "code",
   "execution_count": 107,
   "metadata": {},
   "outputs": [
    {
     "data": {
      "text/plain": [
       "Startup             0\n",
       "Product             6\n",
       "Funding           214\n",
       "Event               0\n",
       "Result              0\n",
       "OperatingState      0\n",
       "dtype: int64"
      ]
     },
     "execution_count": 107,
     "metadata": {},
     "output_type": "execute_result"
    }
   ],
   "source": [
    "#Product and Funding has null values\n",
    "company.isnull().sum()"
   ]
  },
  {
   "cell_type": "code",
   "execution_count": 111,
   "metadata": {},
   "outputs": [
    {
     "data": {
      "text/html": [
       "<div>\n",
       "<style scoped>\n",
       "    .dataframe tbody tr th:only-of-type {\n",
       "        vertical-align: middle;\n",
       "    }\n",
       "\n",
       "    .dataframe tbody tr th {\n",
       "        vertical-align: top;\n",
       "    }\n",
       "\n",
       "    .dataframe thead th {\n",
       "        text-align: right;\n",
       "    }\n",
       "</style>\n",
       "<table border=\"1\" class=\"dataframe\">\n",
       "  <thead>\n",
       "    <tr style=\"text-align: right;\">\n",
       "      <th></th>\n",
       "      <th>Startup</th>\n",
       "      <th>Product</th>\n",
       "      <th>Funding</th>\n",
       "      <th>Event</th>\n",
       "      <th>Result</th>\n",
       "      <th>OperatingState</th>\n",
       "    </tr>\n",
       "  </thead>\n",
       "  <tbody>\n",
       "    <tr>\n",
       "      <th>1</th>\n",
       "      <td>3DLT</td>\n",
       "      <td>3dlt.com</td>\n",
       "      <td>$630K</td>\n",
       "      <td>Disrupt NYC 2013</td>\n",
       "      <td>Contestant</td>\n",
       "      <td>Closed</td>\n",
       "    </tr>\n",
       "    <tr>\n",
       "      <th>3</th>\n",
       "      <td>3Dprintler</td>\n",
       "      <td>3dprintler.com</td>\n",
       "      <td>$1M</td>\n",
       "      <td>Disrupt NY 2016</td>\n",
       "      <td>Audience choice</td>\n",
       "      <td>Operating</td>\n",
       "    </tr>\n",
       "    <tr>\n",
       "      <th>5</th>\n",
       "      <td>5to1</td>\n",
       "      <td>5to1.com</td>\n",
       "      <td>$19.3M</td>\n",
       "      <td>TC50 2009</td>\n",
       "      <td>Contestant</td>\n",
       "      <td>Acquired</td>\n",
       "    </tr>\n",
       "    <tr>\n",
       "      <th>6</th>\n",
       "      <td>8 Securities</td>\n",
       "      <td>8securities.com</td>\n",
       "      <td>$29M</td>\n",
       "      <td>Disrupt Beijing 2011</td>\n",
       "      <td>Finalist</td>\n",
       "      <td>Operating</td>\n",
       "    </tr>\n",
       "    <tr>\n",
       "      <th>10</th>\n",
       "      <td>AdhereTech</td>\n",
       "      <td>adheretech.com</td>\n",
       "      <td>$1.8M</td>\n",
       "      <td>Hardware Battlefield 2014</td>\n",
       "      <td>Contestant</td>\n",
       "      <td>Operating</td>\n",
       "    </tr>\n",
       "    <tr>\n",
       "      <th>...</th>\n",
       "      <td>...</td>\n",
       "      <td>...</td>\n",
       "      <td>...</td>\n",
       "      <td>...</td>\n",
       "      <td>...</td>\n",
       "      <td>...</td>\n",
       "    </tr>\n",
       "    <tr>\n",
       "      <th>657</th>\n",
       "      <td>Zivity</td>\n",
       "      <td>zivity.com</td>\n",
       "      <td>$8M</td>\n",
       "      <td>TC40 2007</td>\n",
       "      <td>Contestant</td>\n",
       "      <td>Operating</td>\n",
       "    </tr>\n",
       "    <tr>\n",
       "      <th>658</th>\n",
       "      <td>Zmorph</td>\n",
       "      <td>zmorph3d.com</td>\n",
       "      <td>$1M</td>\n",
       "      <td>-</td>\n",
       "      <td>Audience choice</td>\n",
       "      <td>Operating</td>\n",
       "    </tr>\n",
       "    <tr>\n",
       "      <th>659</th>\n",
       "      <td>Zocdoc</td>\n",
       "      <td>zocdoc.com</td>\n",
       "      <td>$223M</td>\n",
       "      <td>TC40 2007</td>\n",
       "      <td>Contestant</td>\n",
       "      <td>Operating</td>\n",
       "    </tr>\n",
       "    <tr>\n",
       "      <th>660</th>\n",
       "      <td>Zula</td>\n",
       "      <td>zulaapp.com</td>\n",
       "      <td>$3.4M</td>\n",
       "      <td>Disrupt SF 2013</td>\n",
       "      <td>Audience choice</td>\n",
       "      <td>Operating</td>\n",
       "    </tr>\n",
       "    <tr>\n",
       "      <th>661</th>\n",
       "      <td>Zumper</td>\n",
       "      <td>zumper.com</td>\n",
       "      <td>$31.5M</td>\n",
       "      <td>Disrupt SF 2012</td>\n",
       "      <td>Finalist</td>\n",
       "      <td>Operating</td>\n",
       "    </tr>\n",
       "  </tbody>\n",
       "</table>\n",
       "<p>446 rows × 6 columns</p>\n",
       "</div>"
      ],
      "text/plain": [
       "          Startup          Product Funding                      Event  \\\n",
       "1            3DLT         3dlt.com   $630K           Disrupt NYC 2013   \n",
       "3      3Dprintler   3dprintler.com     $1M            Disrupt NY 2016   \n",
       "5            5to1         5to1.com  $19.3M                  TC50 2009   \n",
       "6    8 Securities  8securities.com    $29M       Disrupt Beijing 2011   \n",
       "10     AdhereTech   adheretech.com   $1.8M  Hardware Battlefield 2014   \n",
       "..            ...              ...     ...                        ...   \n",
       "657        Zivity       zivity.com     $8M                  TC40 2007   \n",
       "658        Zmorph     zmorph3d.com     $1M                          -   \n",
       "659        Zocdoc       zocdoc.com   $223M                  TC40 2007   \n",
       "660          Zula      zulaapp.com   $3.4M            Disrupt SF 2013   \n",
       "661        Zumper       zumper.com  $31.5M            Disrupt SF 2012   \n",
       "\n",
       "              Result OperatingState  \n",
       "1         Contestant         Closed  \n",
       "3    Audience choice      Operating  \n",
       "5         Contestant       Acquired  \n",
       "6           Finalist      Operating  \n",
       "10        Contestant      Operating  \n",
       "..               ...            ...  \n",
       "657       Contestant      Operating  \n",
       "658  Audience choice      Operating  \n",
       "659       Contestant      Operating  \n",
       "660  Audience choice      Operating  \n",
       "661         Finalist      Operating  \n",
       "\n",
       "[446 rows x 6 columns]"
      ]
     },
     "execution_count": 111,
     "metadata": {},
     "output_type": "execute_result"
    }
   ],
   "source": [
    "#drop the null value rows\n",
    "company_new = company.dropna()\n",
    "company_new"
   ]
  },
  {
   "cell_type": "code",
   "execution_count": 121,
   "metadata": {},
   "outputs": [
    {
     "data": {
      "text/plain": [
       "1       630K\n",
       "3         1M\n",
       "5      19.3M\n",
       "6        29M\n",
       "10      1.8M\n",
       "       ...  \n",
       "657       8M\n",
       "658       1M\n",
       "659     223M\n",
       "660     3.4M\n",
       "661    31.5M\n",
       "Name: Funding, Length: 446, dtype: object"
      ]
     },
     "execution_count": 121,
     "metadata": {},
     "output_type": "execute_result"
    }
   ],
   "source": [
    "#convert the funding column to numbers\n",
    "df = company_new['Funding'].apply(lambda x : x.replace('$',''))\n",
    "df"
   ]
  },
  {
   "cell_type": "code",
   "execution_count": 142,
   "metadata": {},
   "outputs": [],
   "source": [
    "def text_to_num(text, bad_data_val = 0):\n",
    "    d = {\n",
    "        'K': 1,\n",
    "        'M': 1000,\n",
    "        'B': 1000000\n",
    "    }\n",
    "    if not isinstance(text, str):\n",
    "        # Non-strings are bad are missing data in poster's submission\n",
    "        return bad_data_val\n",
    "\n",
    "    elif text[-1] in d:\n",
    "        # separate out the K, M, or B\n",
    "        num, magnitude = text[:-1], text[-1]\n",
    "        return int(float(num) * d[magnitude])\n",
    "    else:\n",
    "        return float(text)"
   ]
  },
  {
   "cell_type": "code",
   "execution_count": 143,
   "metadata": {},
   "outputs": [
    {
     "name": "stderr",
     "output_type": "stream",
     "text": [
      "<ipython-input-143-1020dcf419db>:2: SettingWithCopyWarning: \n",
      "A value is trying to be set on a copy of a slice from a DataFrame.\n",
      "Try using .loc[row_indexer,col_indexer] = value instead\n",
      "\n",
      "See the caveats in the documentation: https://pandas.pydata.org/pandas-docs/stable/user_guide/indexing.html#returning-a-view-versus-a-copy\n",
      "  company_new['Funding'] = df.apply(lambda x : text_to_num(x, bad_data_val = 0))\n"
     ]
    },
    {
     "data": {
      "text/html": [
       "<div>\n",
       "<style scoped>\n",
       "    .dataframe tbody tr th:only-of-type {\n",
       "        vertical-align: middle;\n",
       "    }\n",
       "\n",
       "    .dataframe tbody tr th {\n",
       "        vertical-align: top;\n",
       "    }\n",
       "\n",
       "    .dataframe thead th {\n",
       "        text-align: right;\n",
       "    }\n",
       "</style>\n",
       "<table border=\"1\" class=\"dataframe\">\n",
       "  <thead>\n",
       "    <tr style=\"text-align: right;\">\n",
       "      <th></th>\n",
       "      <th>Startup</th>\n",
       "      <th>Product</th>\n",
       "      <th>Funding</th>\n",
       "      <th>Event</th>\n",
       "      <th>Result</th>\n",
       "      <th>OperatingState</th>\n",
       "    </tr>\n",
       "  </thead>\n",
       "  <tbody>\n",
       "    <tr>\n",
       "      <th>1</th>\n",
       "      <td>3DLT</td>\n",
       "      <td>3dlt.com</td>\n",
       "      <td>630</td>\n",
       "      <td>Disrupt NYC 2013</td>\n",
       "      <td>Contestant</td>\n",
       "      <td>Closed</td>\n",
       "    </tr>\n",
       "    <tr>\n",
       "      <th>3</th>\n",
       "      <td>3Dprintler</td>\n",
       "      <td>3dprintler.com</td>\n",
       "      <td>1000</td>\n",
       "      <td>Disrupt NY 2016</td>\n",
       "      <td>Audience choice</td>\n",
       "      <td>Operating</td>\n",
       "    </tr>\n",
       "    <tr>\n",
       "      <th>5</th>\n",
       "      <td>5to1</td>\n",
       "      <td>5to1.com</td>\n",
       "      <td>19300</td>\n",
       "      <td>TC50 2009</td>\n",
       "      <td>Contestant</td>\n",
       "      <td>Acquired</td>\n",
       "    </tr>\n",
       "    <tr>\n",
       "      <th>6</th>\n",
       "      <td>8 Securities</td>\n",
       "      <td>8securities.com</td>\n",
       "      <td>29000</td>\n",
       "      <td>Disrupt Beijing 2011</td>\n",
       "      <td>Finalist</td>\n",
       "      <td>Operating</td>\n",
       "    </tr>\n",
       "    <tr>\n",
       "      <th>10</th>\n",
       "      <td>AdhereTech</td>\n",
       "      <td>adheretech.com</td>\n",
       "      <td>1800</td>\n",
       "      <td>Hardware Battlefield 2014</td>\n",
       "      <td>Contestant</td>\n",
       "      <td>Operating</td>\n",
       "    </tr>\n",
       "    <tr>\n",
       "      <th>11</th>\n",
       "      <td>AdRocket</td>\n",
       "      <td>adrocket.com</td>\n",
       "      <td>1000</td>\n",
       "      <td>TC50 2008</td>\n",
       "      <td>Contestant</td>\n",
       "      <td>Closed</td>\n",
       "    </tr>\n",
       "    <tr>\n",
       "      <th>13</th>\n",
       "      <td>Agrilyst</td>\n",
       "      <td>agrilyst.com</td>\n",
       "      <td>1000</td>\n",
       "      <td>Disrupt SF 2015</td>\n",
       "      <td>Winner</td>\n",
       "      <td>Operating</td>\n",
       "    </tr>\n",
       "    <tr>\n",
       "      <th>14</th>\n",
       "      <td>Aiden</td>\n",
       "      <td>aiden.ai</td>\n",
       "      <td>750</td>\n",
       "      <td>Disrupt London 2016</td>\n",
       "      <td>Contestant</td>\n",
       "      <td>Operating</td>\n",
       "    </tr>\n",
       "    <tr>\n",
       "      <th>15</th>\n",
       "      <td>AirBoxLab</td>\n",
       "      <td>foobot.io</td>\n",
       "      <td>17</td>\n",
       "      <td>Hardware Battlefield 2014</td>\n",
       "      <td>Contestant</td>\n",
       "      <td>Operating</td>\n",
       "    </tr>\n",
       "    <tr>\n",
       "      <th>16</th>\n",
       "      <td>Aircall</td>\n",
       "      <td>aircall.io</td>\n",
       "      <td>11600</td>\n",
       "      <td>Disrupt SF 2015</td>\n",
       "      <td>Contestant</td>\n",
       "      <td>Operating</td>\n",
       "    </tr>\n",
       "  </tbody>\n",
       "</table>\n",
       "</div>"
      ],
      "text/plain": [
       "         Startup          Product  Funding                      Event  \\\n",
       "1           3DLT         3dlt.com      630           Disrupt NYC 2013   \n",
       "3     3Dprintler   3dprintler.com     1000            Disrupt NY 2016   \n",
       "5           5to1         5to1.com    19300                  TC50 2009   \n",
       "6   8 Securities  8securities.com    29000       Disrupt Beijing 2011   \n",
       "10    AdhereTech   adheretech.com     1800  Hardware Battlefield 2014   \n",
       "11      AdRocket     adrocket.com     1000                  TC50 2008   \n",
       "13      Agrilyst     agrilyst.com     1000            Disrupt SF 2015   \n",
       "14         Aiden         aiden.ai      750        Disrupt London 2016   \n",
       "15     AirBoxLab        foobot.io       17  Hardware Battlefield 2014   \n",
       "16       Aircall       aircall.io    11600            Disrupt SF 2015   \n",
       "\n",
       "             Result OperatingState  \n",
       "1        Contestant         Closed  \n",
       "3   Audience choice      Operating  \n",
       "5        Contestant       Acquired  \n",
       "6          Finalist      Operating  \n",
       "10       Contestant      Operating  \n",
       "11       Contestant         Closed  \n",
       "13           Winner      Operating  \n",
       "14       Contestant      Operating  \n",
       "15       Contestant      Operating  \n",
       "16       Contestant      Operating  "
      ]
     },
     "execution_count": 143,
     "metadata": {},
     "output_type": "execute_result"
    }
   ],
   "source": [
    "default_val = 0\n",
    "company_new['Funding'] = df.apply(lambda x : text_to_num(x, bad_data_val = 0))\n",
    "#considered 1K,1000K=1M etc.\n",
    "company_new.head(10)"
   ]
  },
  {
   "cell_type": "code",
   "execution_count": 144,
   "metadata": {},
   "outputs": [
    {
     "name": "stdout",
     "output_type": "stream",
     "text": [
      "<class 'pandas.core.frame.DataFrame'>\n",
      "Int64Index: 446 entries, 1 to 661\n",
      "Data columns (total 6 columns):\n",
      " #   Column          Non-Null Count  Dtype \n",
      "---  ------          --------------  ----- \n",
      " 0   Startup         446 non-null    object\n",
      " 1   Product         446 non-null    object\n",
      " 2   Funding         446 non-null    int64 \n",
      " 3   Event           446 non-null    object\n",
      " 4   Result          446 non-null    object\n",
      " 5   OperatingState  446 non-null    object\n",
      "dtypes: int64(1), object(5)\n",
      "memory usage: 24.4+ KB\n"
     ]
    }
   ],
   "source": [
    "company_new.info()"
   ]
  },
  {
   "cell_type": "code",
   "execution_count": 139,
   "metadata": {},
   "outputs": [
    {
     "data": {
      "text/html": [
       "<div>\n",
       "<style scoped>\n",
       "    .dataframe tbody tr th:only-of-type {\n",
       "        vertical-align: middle;\n",
       "    }\n",
       "\n",
       "    .dataframe tbody tr th {\n",
       "        vertical-align: top;\n",
       "    }\n",
       "\n",
       "    .dataframe thead th {\n",
       "        text-align: right;\n",
       "    }\n",
       "</style>\n",
       "<table border=\"1\" class=\"dataframe\">\n",
       "  <thead>\n",
       "    <tr style=\"text-align: right;\">\n",
       "      <th></th>\n",
       "      <th>count</th>\n",
       "      <th>mean</th>\n",
       "      <th>std</th>\n",
       "      <th>min</th>\n",
       "      <th>25%</th>\n",
       "      <th>50%</th>\n",
       "      <th>75%</th>\n",
       "      <th>max</th>\n",
       "    </tr>\n",
       "  </thead>\n",
       "  <tbody>\n",
       "    <tr>\n",
       "      <th>Funding</th>\n",
       "      <td>446.0</td>\n",
       "      <td>17241.461883</td>\n",
       "      <td>90483.713443</td>\n",
       "      <td>5.0</td>\n",
       "      <td>745.25</td>\n",
       "      <td>2200.0</td>\n",
       "      <td>9475.0</td>\n",
       "      <td>1700000.0</td>\n",
       "    </tr>\n",
       "  </tbody>\n",
       "</table>\n",
       "</div>"
      ],
      "text/plain": [
       "         count          mean           std  min     25%     50%     75%  \\\n",
       "Funding  446.0  17241.461883  90483.713443  5.0  745.25  2200.0  9475.0   \n",
       "\n",
       "               max  \n",
       "Funding  1700000.0  "
      ]
     },
     "execution_count": 139,
     "metadata": {},
     "output_type": "execute_result"
    }
   ],
   "source": [
    "company_new.describe().transpose()"
   ]
  },
  {
   "cell_type": "code",
   "execution_count": 152,
   "metadata": {},
   "outputs": [
    {
     "data": {
      "text/plain": [
       "<AxesSubplot:xlabel='Funding'>"
      ]
     },
     "execution_count": 152,
     "metadata": {},
     "output_type": "execute_result"
    },
    {
     "data": {
      "image/png": "[encoded data removed]",
      "text/plain": [
       "<Figure size 1440x720 with 1 Axes>"
      ]
     },
     "metadata": {},
     "output_type": "display_data"
    }
   ],
   "source": [
    "plt.figure(figsize=(20,10))\n",
    "sns.boxplot(x=company_new['Funding']/1000)"
   ]
  },
  {
   "cell_type": "code",
   "execution_count": 167,
   "metadata": {},
   "outputs": [
    {
     "data": {
      "text/html": [
       "<div>\n",
       "<style scoped>\n",
       "    .dataframe tbody tr th:only-of-type {\n",
       "        vertical-align: middle;\n",
       "    }\n",
       "\n",
       "    .dataframe tbody tr th {\n",
       "        vertical-align: top;\n",
       "    }\n",
       "\n",
       "    .dataframe thead th {\n",
       "        text-align: right;\n",
       "    }\n",
       "</style>\n",
       "<table border=\"1\" class=\"dataframe\">\n",
       "  <thead>\n",
       "    <tr style=\"text-align: right;\">\n",
       "      <th></th>\n",
       "      <th>Startup</th>\n",
       "      <th>Product</th>\n",
       "      <th>Funding</th>\n",
       "      <th>Event</th>\n",
       "      <th>Result</th>\n",
       "      <th>OperatingState</th>\n",
       "    </tr>\n",
       "  </thead>\n",
       "  <tbody>\n",
       "    <tr>\n",
       "      <th>1</th>\n",
       "      <td>3DLT</td>\n",
       "      <td>3dlt.com</td>\n",
       "      <td>630</td>\n",
       "      <td>Disrupt NYC 2013</td>\n",
       "      <td>Contestant</td>\n",
       "      <td>Closed</td>\n",
       "    </tr>\n",
       "    <tr>\n",
       "      <th>3</th>\n",
       "      <td>3Dprintler</td>\n",
       "      <td>3dprintler.com</td>\n",
       "      <td>1000</td>\n",
       "      <td>Disrupt NY 2016</td>\n",
       "      <td>Audience choice</td>\n",
       "      <td>Operating</td>\n",
       "    </tr>\n",
       "    <tr>\n",
       "      <th>5</th>\n",
       "      <td>5to1</td>\n",
       "      <td>5to1.com</td>\n",
       "      <td>19300</td>\n",
       "      <td>TC50 2009</td>\n",
       "      <td>Contestant</td>\n",
       "      <td>Acquired</td>\n",
       "    </tr>\n",
       "    <tr>\n",
       "      <th>10</th>\n",
       "      <td>AdhereTech</td>\n",
       "      <td>adheretech.com</td>\n",
       "      <td>1800</td>\n",
       "      <td>Hardware Battlefield 2014</td>\n",
       "      <td>Contestant</td>\n",
       "      <td>Operating</td>\n",
       "    </tr>\n",
       "    <tr>\n",
       "      <th>11</th>\n",
       "      <td>AdRocket</td>\n",
       "      <td>adrocket.com</td>\n",
       "      <td>1000</td>\n",
       "      <td>TC50 2008</td>\n",
       "      <td>Contestant</td>\n",
       "      <td>Closed</td>\n",
       "    </tr>\n",
       "    <tr>\n",
       "      <th>...</th>\n",
       "      <td>...</td>\n",
       "      <td>...</td>\n",
       "      <td>...</td>\n",
       "      <td>...</td>\n",
       "      <td>...</td>\n",
       "      <td>...</td>\n",
       "    </tr>\n",
       "    <tr>\n",
       "      <th>645</th>\n",
       "      <td>Yap</td>\n",
       "      <td>yapme.com</td>\n",
       "      <td>10000</td>\n",
       "      <td>TC40 2007</td>\n",
       "      <td>Contestant</td>\n",
       "      <td>Closed</td>\n",
       "    </tr>\n",
       "    <tr>\n",
       "      <th>646</th>\n",
       "      <td>YayPay Inc</td>\n",
       "      <td>yaypay.com</td>\n",
       "      <td>900</td>\n",
       "      <td>Disrupt London 2015</td>\n",
       "      <td>Contestant</td>\n",
       "      <td>Operating</td>\n",
       "    </tr>\n",
       "    <tr>\n",
       "      <th>657</th>\n",
       "      <td>Zivity</td>\n",
       "      <td>zivity.com</td>\n",
       "      <td>8000</td>\n",
       "      <td>TC40 2007</td>\n",
       "      <td>Contestant</td>\n",
       "      <td>Operating</td>\n",
       "    </tr>\n",
       "    <tr>\n",
       "      <th>658</th>\n",
       "      <td>Zmorph</td>\n",
       "      <td>zmorph3d.com</td>\n",
       "      <td>1000</td>\n",
       "      <td>-</td>\n",
       "      <td>Audience choice</td>\n",
       "      <td>Operating</td>\n",
       "    </tr>\n",
       "    <tr>\n",
       "      <th>660</th>\n",
       "      <td>Zula</td>\n",
       "      <td>zulaapp.com</td>\n",
       "      <td>3400</td>\n",
       "      <td>Disrupt SF 2013</td>\n",
       "      <td>Audience choice</td>\n",
       "      <td>Operating</td>\n",
       "    </tr>\n",
       "  </tbody>\n",
       "</table>\n",
       "<p>386 rows × 6 columns</p>\n",
       "</div>"
      ],
      "text/plain": [
       "        Startup         Product  Funding                      Event  \\\n",
       "1          3DLT        3dlt.com      630           Disrupt NYC 2013   \n",
       "3    3Dprintler  3dprintler.com     1000            Disrupt NY 2016   \n",
       "5          5to1        5to1.com    19300                  TC50 2009   \n",
       "10   AdhereTech  adheretech.com     1800  Hardware Battlefield 2014   \n",
       "11     AdRocket    adrocket.com     1000                  TC50 2008   \n",
       "..          ...             ...      ...                        ...   \n",
       "645         Yap       yapme.com    10000                  TC40 2007   \n",
       "646  YayPay Inc      yaypay.com      900        Disrupt London 2015   \n",
       "657      Zivity      zivity.com     8000                  TC40 2007   \n",
       "658      Zmorph    zmorph3d.com     1000                          -   \n",
       "660        Zula     zulaapp.com     3400            Disrupt SF 2013   \n",
       "\n",
       "              Result OperatingState  \n",
       "1         Contestant         Closed  \n",
       "3    Audience choice      Operating  \n",
       "5         Contestant       Acquired  \n",
       "10        Contestant      Operating  \n",
       "11        Contestant         Closed  \n",
       "..               ...            ...  \n",
       "645       Contestant         Closed  \n",
       "646       Contestant      Operating  \n",
       "657       Contestant      Operating  \n",
       "658  Audience choice      Operating  \n",
       "660  Audience choice      Operating  \n",
       "\n",
       "[386 rows x 6 columns]"
      ]
     },
     "execution_count": 167,
     "metadata": {},
     "output_type": "execute_result"
    }
   ],
   "source": [
    "#removing outliers greater than upper fence\n",
    "Q1 = company_new['Funding'].quantile(0.25)\n",
    "Q3 = company_new['Funding'].quantile(0.75)\n",
    "IQR = Q3 - Q1    #IQR is interquartile range. \n",
    "\n",
    "filter = (company_new['Funding'] <= Q3 + 1.5 *IQR)\n",
    "#filter\n",
    "company_new = company_new.loc[filter]\n",
    "company_new"
   ]
  },
  {
   "cell_type": "code",
   "execution_count": 169,
   "metadata": {},
   "outputs": [
    {
     "data": {
      "text/plain": [
       "<AxesSubplot:xlabel='Funding'>"
      ]
     },
     "execution_count": 169,
     "metadata": {},
     "output_type": "execute_result"
    },
    {
     "data": {
      "image/png": "[encoded data removed]",
      "text/plain": [
       "<Figure size 432x288 with 1 Axes>"
      ]
     },
     "metadata": {},
     "output_type": "display_data"
    }
   ],
   "source": [
    "#boxplot after removing the outliers\n",
    "sns.boxplot(x=company_new['Funding']/1000)"
   ]
  },
  {
   "cell_type": "code",
   "execution_count": 171,
   "metadata": {},
   "outputs": [
    {
     "data": {
      "text/plain": [
       "Operating    275\n",
       "Closed        56\n",
       "Acquired      55\n",
       "Name: OperatingState, dtype: int64"
      ]
     },
     "execution_count": 171,
     "metadata": {},
     "output_type": "execute_result"
    }
   ],
   "source": [
    "#frequency of OperatingState feature classes\n",
    "company_new['OperatingState'].value_counts()"
   ]
  },
  {
   "cell_type": "code",
   "execution_count": 172,
   "metadata": {},
   "outputs": [
    {
     "name": "stderr",
     "output_type": "stream",
     "text": [
      "D:\\shriy\\anaconda\\lib\\site-packages\\seaborn\\distributions.py:2551: FutureWarning: `distplot` is a deprecated function and will be removed in a future version. Please adapt your code to use either `displot` (a figure-level function with similar flexibility) or `histplot` (an axes-level function for histograms).\n",
      "  warnings.warn(msg, FutureWarning)\n"
     ]
    },
    {
     "data": {
      "image/png": "[encoded data removed]",
      "text/plain": [
       "<Figure size 432x288 with 1 Axes>"
      ]
     },
     "metadata": {},
     "output_type": "display_data"
    }
   ],
   "source": [
    "#dist plot for funding in million\n",
    "sns.distplot(company_new['Funding']/1000);"
   ]
  },
  {
   "cell_type": "code",
   "execution_count": 176,
   "metadata": {
    "scrolled": true
   },
   "outputs": [
    {
     "name": "stderr",
     "output_type": "stream",
     "text": [
      "D:\\shriy\\anaconda\\lib\\site-packages\\seaborn\\_decorators.py:36: FutureWarning: Pass the following variable as a keyword arg: x. From version 0.12, the only valid positional argument will be `data`, and passing other arguments without an explicit keyword will result in an error or misinterpretation.\n",
      "  warnings.warn(\n"
     ]
    },
    {
     "data": {
      "text/plain": [
       "<AxesSubplot:xlabel='OperatingState', ylabel='count'>"
      ]
     },
     "execution_count": 176,
     "metadata": {},
     "output_type": "execute_result"
    },
    {
     "data": {
      "image/png": "[encoded data removed]",
      "text/plain": [
       "<Figure size 432x288 with 1 Axes>"
      ]
     },
     "metadata": {},
     "output_type": "display_data"
    }
   ],
   "source": [
    "#no. of companies still operating, closed or acquired\n",
    "sns.countplot(company_new['OperatingState'])"
   ]
  },
  {
   "cell_type": "markdown",
   "metadata": {},
   "source": [
    "## Statistical analysis:\n",
    "\n",
    "• Is there any significant difference between Funds raised by companies that are still operating vs companies that closed down?\n",
    "Write the null hypothesis and alternative hypothesis.\n",
    "Test for significance and conclusion\n"
   ]
  },
  {
   "cell_type": "markdown",
   "metadata": {},
   "source": [
    "#### Ho: There is no significant difference between Funds raised by companies that are still operating vs companies that closed down.\n",
    "\n",
    "#### Ha: There is a significant difference between Funds raised by companies that are still operating vs companies that closed down."
   ]
  },
  {
   "cell_type": "code",
   "execution_count": 180,
   "metadata": {},
   "outputs": [
    {
     "data": {
      "text/html": [
       "<div>\n",
       "<style scoped>\n",
       "    .dataframe tbody tr th:only-of-type {\n",
       "        vertical-align: middle;\n",
       "    }\n",
       "\n",
       "    .dataframe tbody tr th {\n",
       "        vertical-align: top;\n",
       "    }\n",
       "\n",
       "    .dataframe thead th {\n",
       "        text-align: right;\n",
       "    }\n",
       "</style>\n",
       "<table border=\"1\" class=\"dataframe\">\n",
       "  <thead>\n",
       "    <tr style=\"text-align: right;\">\n",
       "      <th></th>\n",
       "      <th>Funding</th>\n",
       "      <th>OperatingState</th>\n",
       "    </tr>\n",
       "  </thead>\n",
       "  <tbody>\n",
       "    <tr>\n",
       "      <th>1</th>\n",
       "      <td>630</td>\n",
       "      <td>Closed</td>\n",
       "    </tr>\n",
       "    <tr>\n",
       "      <th>3</th>\n",
       "      <td>1000</td>\n",
       "      <td>Operating</td>\n",
       "    </tr>\n",
       "    <tr>\n",
       "      <th>5</th>\n",
       "      <td>19300</td>\n",
       "      <td>Acquired</td>\n",
       "    </tr>\n",
       "    <tr>\n",
       "      <th>10</th>\n",
       "      <td>1800</td>\n",
       "      <td>Operating</td>\n",
       "    </tr>\n",
       "    <tr>\n",
       "      <th>11</th>\n",
       "      <td>1000</td>\n",
       "      <td>Closed</td>\n",
       "    </tr>\n",
       "    <tr>\n",
       "      <th>...</th>\n",
       "      <td>...</td>\n",
       "      <td>...</td>\n",
       "    </tr>\n",
       "    <tr>\n",
       "      <th>645</th>\n",
       "      <td>10000</td>\n",
       "      <td>Closed</td>\n",
       "    </tr>\n",
       "    <tr>\n",
       "      <th>646</th>\n",
       "      <td>900</td>\n",
       "      <td>Operating</td>\n",
       "    </tr>\n",
       "    <tr>\n",
       "      <th>657</th>\n",
       "      <td>8000</td>\n",
       "      <td>Operating</td>\n",
       "    </tr>\n",
       "    <tr>\n",
       "      <th>658</th>\n",
       "      <td>1000</td>\n",
       "      <td>Operating</td>\n",
       "    </tr>\n",
       "    <tr>\n",
       "      <th>660</th>\n",
       "      <td>3400</td>\n",
       "      <td>Operating</td>\n",
       "    </tr>\n",
       "  </tbody>\n",
       "</table>\n",
       "<p>386 rows × 2 columns</p>\n",
       "</div>"
      ],
      "text/plain": [
       "     Funding OperatingState\n",
       "1        630         Closed\n",
       "3       1000      Operating\n",
       "5      19300       Acquired\n",
       "10      1800      Operating\n",
       "11      1000         Closed\n",
       "..       ...            ...\n",
       "645    10000         Closed\n",
       "646      900      Operating\n",
       "657     8000      Operating\n",
       "658     1000      Operating\n",
       "660     3400      Operating\n",
       "\n",
       "[386 rows x 2 columns]"
      ]
     },
     "execution_count": 180,
     "metadata": {},
     "output_type": "execute_result"
    }
   ],
   "source": [
    "df_test = company_new[['Funding','OperatingState']]\n",
    "df_test"
   ]
  },
  {
   "cell_type": "code",
   "execution_count": 187,
   "metadata": {},
   "outputs": [
    {
     "data": {
      "text/html": [
       "<div>\n",
       "<style scoped>\n",
       "    .dataframe tbody tr th:only-of-type {\n",
       "        vertical-align: middle;\n",
       "    }\n",
       "\n",
       "    .dataframe tbody tr th {\n",
       "        vertical-align: top;\n",
       "    }\n",
       "\n",
       "    .dataframe thead th {\n",
       "        text-align: right;\n",
       "    }\n",
       "</style>\n",
       "<table border=\"1\" class=\"dataframe\">\n",
       "  <thead>\n",
       "    <tr style=\"text-align: right;\">\n",
       "      <th></th>\n",
       "      <th>Funding</th>\n",
       "      <th>OperatingState</th>\n",
       "    </tr>\n",
       "  </thead>\n",
       "  <tbody>\n",
       "    <tr>\n",
       "      <th>1</th>\n",
       "      <td>630</td>\n",
       "      <td>Closed</td>\n",
       "    </tr>\n",
       "    <tr>\n",
       "      <th>11</th>\n",
       "      <td>1000</td>\n",
       "      <td>Closed</td>\n",
       "    </tr>\n",
       "    <tr>\n",
       "      <th>17</th>\n",
       "      <td>929</td>\n",
       "      <td>Closed</td>\n",
       "    </tr>\n",
       "    <tr>\n",
       "      <th>20</th>\n",
       "      <td>1900</td>\n",
       "      <td>Closed</td>\n",
       "    </tr>\n",
       "    <tr>\n",
       "      <th>34</th>\n",
       "      <td>600</td>\n",
       "      <td>Closed</td>\n",
       "    </tr>\n",
       "    <tr>\n",
       "      <th>48</th>\n",
       "      <td>190</td>\n",
       "      <td>Closed</td>\n",
       "    </tr>\n",
       "    <tr>\n",
       "      <th>62</th>\n",
       "      <td>20800</td>\n",
       "      <td>Closed</td>\n",
       "    </tr>\n",
       "    <tr>\n",
       "      <th>79</th>\n",
       "      <td>8100</td>\n",
       "      <td>Closed</td>\n",
       "    </tr>\n",
       "    <tr>\n",
       "      <th>82</th>\n",
       "      <td>325</td>\n",
       "      <td>Closed</td>\n",
       "    </tr>\n",
       "    <tr>\n",
       "      <th>97</th>\n",
       "      <td>5500</td>\n",
       "      <td>Closed</td>\n",
       "    </tr>\n",
       "  </tbody>\n",
       "</table>\n",
       "</div>"
      ],
      "text/plain": [
       "    Funding OperatingState\n",
       "1       630         Closed\n",
       "11     1000         Closed\n",
       "17      929         Closed\n",
       "20     1900         Closed\n",
       "34      600         Closed\n",
       "48      190         Closed\n",
       "62    20800         Closed\n",
       "79     8100         Closed\n",
       "82      325         Closed\n",
       "97     5500         Closed"
      ]
     },
     "execution_count": 187,
     "metadata": {},
     "output_type": "execute_result"
    }
   ],
   "source": [
    "df_test1 = df_test[df_test.OperatingState == 'Closed']\n",
    "df_test1.head(10)"
   ]
  },
  {
   "cell_type": "code",
   "execution_count": 199,
   "metadata": {},
   "outputs": [
    {
     "data": {
      "text/html": [
       "<div>\n",
       "<style scoped>\n",
       "    .dataframe tbody tr th:only-of-type {\n",
       "        vertical-align: middle;\n",
       "    }\n",
       "\n",
       "    .dataframe tbody tr th {\n",
       "        vertical-align: top;\n",
       "    }\n",
       "\n",
       "    .dataframe thead th {\n",
       "        text-align: right;\n",
       "    }\n",
       "</style>\n",
       "<table border=\"1\" class=\"dataframe\">\n",
       "  <thead>\n",
       "    <tr style=\"text-align: right;\">\n",
       "      <th></th>\n",
       "      <th>Funding</th>\n",
       "      <th>OperatingState</th>\n",
       "    </tr>\n",
       "  </thead>\n",
       "  <tbody>\n",
       "    <tr>\n",
       "      <th>3</th>\n",
       "      <td>1000</td>\n",
       "      <td>Operating</td>\n",
       "    </tr>\n",
       "    <tr>\n",
       "      <th>10</th>\n",
       "      <td>1800</td>\n",
       "      <td>Operating</td>\n",
       "    </tr>\n",
       "    <tr>\n",
       "      <th>13</th>\n",
       "      <td>1000</td>\n",
       "      <td>Operating</td>\n",
       "    </tr>\n",
       "    <tr>\n",
       "      <th>14</th>\n",
       "      <td>750</td>\n",
       "      <td>Operating</td>\n",
       "    </tr>\n",
       "    <tr>\n",
       "      <th>15</th>\n",
       "      <td>17</td>\n",
       "      <td>Operating</td>\n",
       "    </tr>\n",
       "    <tr>\n",
       "      <th>16</th>\n",
       "      <td>11600</td>\n",
       "      <td>Operating</td>\n",
       "    </tr>\n",
       "    <tr>\n",
       "      <th>18</th>\n",
       "      <td>12200</td>\n",
       "      <td>Operating</td>\n",
       "    </tr>\n",
       "    <tr>\n",
       "      <th>22</th>\n",
       "      <td>4000</td>\n",
       "      <td>Operating</td>\n",
       "    </tr>\n",
       "    <tr>\n",
       "      <th>32</th>\n",
       "      <td>746</td>\n",
       "      <td>Operating</td>\n",
       "    </tr>\n",
       "    <tr>\n",
       "      <th>35</th>\n",
       "      <td>7100</td>\n",
       "      <td>Operating</td>\n",
       "    </tr>\n",
       "  </tbody>\n",
       "</table>\n",
       "</div>"
      ],
      "text/plain": [
       "    Funding OperatingState\n",
       "3      1000      Operating\n",
       "10     1800      Operating\n",
       "13     1000      Operating\n",
       "14      750      Operating\n",
       "15       17      Operating\n",
       "16    11600      Operating\n",
       "18    12200      Operating\n",
       "22     4000      Operating\n",
       "32      746      Operating\n",
       "35     7100      Operating"
      ]
     },
     "execution_count": 199,
     "metadata": {},
     "output_type": "execute_result"
    }
   ],
   "source": [
    "df_test2 = df_test[df_test.OperatingState == 'Operating']\n",
    "df_test2.head(10)"
   ]
  },
  {
   "cell_type": "code",
   "execution_count": 200,
   "metadata": {},
   "outputs": [
    {
     "data": {
      "text/plain": [
       "count       56.000000\n",
       "mean      2682.410714\n",
       "std       4060.200419\n",
       "min         93.000000\n",
       "25%        443.750000\n",
       "50%        927.000000\n",
       "75%       3125.000000\n",
       "max      20800.000000\n",
       "Name: Funding, dtype: float64"
      ]
     },
     "execution_count": 200,
     "metadata": {},
     "output_type": "execute_result"
    }
   ],
   "source": [
    "df_test1.Funding.describe()"
   ]
  },
  {
   "cell_type": "code",
   "execution_count": 201,
   "metadata": {},
   "outputs": [
    {
     "data": {
      "text/plain": [
       "count       56.000000\n",
       "mean      3551.571429\n",
       "std       4086.256846\n",
       "min         17.000000\n",
       "25%        630.250000\n",
       "50%       2000.000000\n",
       "75%       5375.000000\n",
       "max      20500.000000\n",
       "Name: Funding, dtype: float64"
      ]
     },
     "execution_count": 201,
     "metadata": {},
     "output_type": "execute_result"
    }
   ],
   "source": [
    "df_test2_head = df_test2.head(56)\n",
    "df_test2_head.Funding.describe()"
   ]
  },
  {
   "cell_type": "code",
   "execution_count": 202,
   "metadata": {},
   "outputs": [
    {
     "name": "stdout",
     "output_type": "stream",
     "text": [
      "\n",
      " The t-statistic is -1.200 and the p-value is 0.235.\n"
     ]
    }
   ],
   "source": [
    "import scipy.stats as st\n",
    "two_sample = st.ttest_rel(df_test1.Funding, df_test2_head.Funding)\n",
    "print(\"\\n The t-statistic is %.3f and the p-value is %.3f.\" % two_sample)"
   ]
  },
  {
   "cell_type": "code",
   "execution_count": 203,
   "metadata": {},
   "outputs": [
    {
     "data": {
      "text/plain": [
       "count       56.000000\n",
       "mean      2838.392857\n",
       "std       3586.415332\n",
       "min         26.000000\n",
       "25%        600.000000\n",
       "50%       1750.000000\n",
       "75%       3100.000000\n",
       "max      16000.000000\n",
       "Name: Funding, dtype: float64"
      ]
     },
     "execution_count": 203,
     "metadata": {},
     "output_type": "execute_result"
    }
   ],
   "source": [
    "df_test2_tail = df_test2.tail(56)\n",
    "df_test2_tail.Funding.describe()"
   ]
  },
  {
   "cell_type": "code",
   "execution_count": 204,
   "metadata": {},
   "outputs": [
    {
     "name": "stdout",
     "output_type": "stream",
     "text": [
      "\n",
      " The t-statistic is -0.199 and the p-value is 0.843.\n"
     ]
    }
   ],
   "source": [
    "two_sample = st.ttest_rel(df_test1.Funding, df_test2_tail.Funding)\n",
    "print(\"\\n The t-statistic is %.3f and the p-value is %.3f.\" % two_sample)"
   ]
  },
  {
   "cell_type": "markdown",
   "metadata": {},
   "source": [
    "In both the cases, t-stat is negative and p-value is quite large, hence we fail to reject the null hypothesis.\n",
    "\n",
    "Thus, there is no significant difference between Funds raised by companies that are still operating vs companies that closed down"
   ]
  },
  {
   "cell_type": "markdown",
   "metadata": {},
   "source": [
    "• Make a copy of the original data frame."
   ]
  },
  {
   "cell_type": "code",
   "execution_count": 206,
   "metadata": {},
   "outputs": [
    {
     "data": {
      "text/html": [
       "<div>\n",
       "<style scoped>\n",
       "    .dataframe tbody tr th:only-of-type {\n",
       "        vertical-align: middle;\n",
       "    }\n",
       "\n",
       "    .dataframe tbody tr th {\n",
       "        vertical-align: top;\n",
       "    }\n",
       "\n",
       "    .dataframe thead th {\n",
       "        text-align: right;\n",
       "    }\n",
       "</style>\n",
       "<table border=\"1\" class=\"dataframe\">\n",
       "  <thead>\n",
       "    <tr style=\"text-align: right;\">\n",
       "      <th></th>\n",
       "      <th>Startup</th>\n",
       "      <th>Product</th>\n",
       "      <th>Funding</th>\n",
       "      <th>Event</th>\n",
       "      <th>Result</th>\n",
       "      <th>OperatingState</th>\n",
       "    </tr>\n",
       "  </thead>\n",
       "  <tbody>\n",
       "    <tr>\n",
       "      <th>1</th>\n",
       "      <td>3DLT</td>\n",
       "      <td>3dlt.com</td>\n",
       "      <td>630</td>\n",
       "      <td>Disrupt NYC 2013</td>\n",
       "      <td>Contestant</td>\n",
       "      <td>Closed</td>\n",
       "    </tr>\n",
       "    <tr>\n",
       "      <th>3</th>\n",
       "      <td>3Dprintler</td>\n",
       "      <td>3dprintler.com</td>\n",
       "      <td>1000</td>\n",
       "      <td>Disrupt NY 2016</td>\n",
       "      <td>Audience choice</td>\n",
       "      <td>Operating</td>\n",
       "    </tr>\n",
       "    <tr>\n",
       "      <th>5</th>\n",
       "      <td>5to1</td>\n",
       "      <td>5to1.com</td>\n",
       "      <td>19300</td>\n",
       "      <td>TC50 2009</td>\n",
       "      <td>Contestant</td>\n",
       "      <td>Acquired</td>\n",
       "    </tr>\n",
       "    <tr>\n",
       "      <th>10</th>\n",
       "      <td>AdhereTech</td>\n",
       "      <td>adheretech.com</td>\n",
       "      <td>1800</td>\n",
       "      <td>Hardware Battlefield 2014</td>\n",
       "      <td>Contestant</td>\n",
       "      <td>Operating</td>\n",
       "    </tr>\n",
       "    <tr>\n",
       "      <th>11</th>\n",
       "      <td>AdRocket</td>\n",
       "      <td>adrocket.com</td>\n",
       "      <td>1000</td>\n",
       "      <td>TC50 2008</td>\n",
       "      <td>Contestant</td>\n",
       "      <td>Closed</td>\n",
       "    </tr>\n",
       "    <tr>\n",
       "      <th>...</th>\n",
       "      <td>...</td>\n",
       "      <td>...</td>\n",
       "      <td>...</td>\n",
       "      <td>...</td>\n",
       "      <td>...</td>\n",
       "      <td>...</td>\n",
       "    </tr>\n",
       "    <tr>\n",
       "      <th>645</th>\n",
       "      <td>Yap</td>\n",
       "      <td>yapme.com</td>\n",
       "      <td>10000</td>\n",
       "      <td>TC40 2007</td>\n",
       "      <td>Contestant</td>\n",
       "      <td>Closed</td>\n",
       "    </tr>\n",
       "    <tr>\n",
       "      <th>646</th>\n",
       "      <td>YayPay Inc</td>\n",
       "      <td>yaypay.com</td>\n",
       "      <td>900</td>\n",
       "      <td>Disrupt London 2015</td>\n",
       "      <td>Contestant</td>\n",
       "      <td>Operating</td>\n",
       "    </tr>\n",
       "    <tr>\n",
       "      <th>657</th>\n",
       "      <td>Zivity</td>\n",
       "      <td>zivity.com</td>\n",
       "      <td>8000</td>\n",
       "      <td>TC40 2007</td>\n",
       "      <td>Contestant</td>\n",
       "      <td>Operating</td>\n",
       "    </tr>\n",
       "    <tr>\n",
       "      <th>658</th>\n",
       "      <td>Zmorph</td>\n",
       "      <td>zmorph3d.com</td>\n",
       "      <td>1000</td>\n",
       "      <td>-</td>\n",
       "      <td>Audience choice</td>\n",
       "      <td>Operating</td>\n",
       "    </tr>\n",
       "    <tr>\n",
       "      <th>660</th>\n",
       "      <td>Zula</td>\n",
       "      <td>zulaapp.com</td>\n",
       "      <td>3400</td>\n",
       "      <td>Disrupt SF 2013</td>\n",
       "      <td>Audience choice</td>\n",
       "      <td>Operating</td>\n",
       "    </tr>\n",
       "  </tbody>\n",
       "</table>\n",
       "<p>386 rows × 6 columns</p>\n",
       "</div>"
      ],
      "text/plain": [
       "        Startup         Product  Funding                      Event  \\\n",
       "1          3DLT        3dlt.com      630           Disrupt NYC 2013   \n",
       "3    3Dprintler  3dprintler.com     1000            Disrupt NY 2016   \n",
       "5          5to1        5to1.com    19300                  TC50 2009   \n",
       "10   AdhereTech  adheretech.com     1800  Hardware Battlefield 2014   \n",
       "11     AdRocket    adrocket.com     1000                  TC50 2008   \n",
       "..          ...             ...      ...                        ...   \n",
       "645         Yap       yapme.com    10000                  TC40 2007   \n",
       "646  YayPay Inc      yaypay.com      900        Disrupt London 2015   \n",
       "657      Zivity      zivity.com     8000                  TC40 2007   \n",
       "658      Zmorph    zmorph3d.com     1000                          -   \n",
       "660        Zula     zulaapp.com     3400            Disrupt SF 2013   \n",
       "\n",
       "              Result OperatingState  \n",
       "1         Contestant         Closed  \n",
       "3    Audience choice      Operating  \n",
       "5         Contestant       Acquired  \n",
       "10        Contestant      Operating  \n",
       "11        Contestant         Closed  \n",
       "..               ...            ...  \n",
       "645       Contestant         Closed  \n",
       "646       Contestant      Operating  \n",
       "657       Contestant      Operating  \n",
       "658  Audience choice      Operating  \n",
       "660  Audience choice      Operating  \n",
       "\n",
       "[386 rows x 6 columns]"
      ]
     },
     "execution_count": 206,
     "metadata": {},
     "output_type": "execute_result"
    }
   ],
   "source": [
    "#copy of dataset\n",
    "company_new2 = company_new.copy()\n",
    "company_new2"
   ]
  },
  {
   "cell_type": "markdown",
   "metadata": {},
   "source": [
    "• Check frequency distribution of Result variable."
   ]
  },
  {
   "cell_type": "code",
   "execution_count": 207,
   "metadata": {},
   "outputs": [
    {
     "data": {
      "text/plain": [
       "Contestant         282\n",
       "Finalist            52\n",
       "Audience choice     20\n",
       "Winner              17\n",
       "Runner up           15\n",
       "Name: Result, dtype: int64"
      ]
     },
     "execution_count": 207,
     "metadata": {},
     "output_type": "execute_result"
    }
   ],
   "source": [
    "company_new2['Result'].value_counts()"
   ]
  },
  {
   "cell_type": "code",
   "execution_count": 209,
   "metadata": {},
   "outputs": [
    {
     "name": "stderr",
     "output_type": "stream",
     "text": [
      "D:\\shriy\\anaconda\\lib\\site-packages\\seaborn\\_decorators.py:36: FutureWarning: Pass the following variable as a keyword arg: x. From version 0.12, the only valid positional argument will be `data`, and passing other arguments without an explicit keyword will result in an error or misinterpretation.\n",
      "  warnings.warn(\n"
     ]
    },
    {
     "data": {
      "text/plain": [
       "<AxesSubplot:xlabel='Result', ylabel='count'>"
      ]
     },
     "execution_count": 209,
     "metadata": {},
     "output_type": "execute_result"
    },
    {
     "data": {
      "image/png": "[encoded data removed]",
      "text/plain": [
       "<Figure size 432x288 with 1 Axes>"
      ]
     },
     "metadata": {},
     "output_type": "display_data"
    }
   ],
   "source": [
    "sns.countplot(company_new2['Result'])"
   ]
  },
  {
   "cell_type": "markdown",
   "metadata": {},
   "source": [
    "• Calculate percentage of winners that are still operating and percentage of contestants that are still operating"
   ]
  },
  {
   "cell_type": "code",
   "execution_count": 210,
   "metadata": {},
   "outputs": [
    {
     "name": "stderr",
     "output_type": "stream",
     "text": [
      "D:\\shriy\\anaconda\\lib\\site-packages\\seaborn\\_decorators.py:36: FutureWarning: Pass the following variable as a keyword arg: x. From version 0.12, the only valid positional argument will be `data`, and passing other arguments without an explicit keyword will result in an error or misinterpretation.\n",
      "  warnings.warn(\n"
     ]
    },
    {
     "data": {
      "image/png": "[encoded data removed]",
      "text/plain": [
       "<Figure size 432x288 with 1 Axes>"
      ]
     },
     "metadata": {},
     "output_type": "display_data"
    }
   ],
   "source": [
    "sns.countplot(company_new2['Result'],hue=company_new2['OperatingState']);"
   ]
  },
  {
   "cell_type": "code",
   "execution_count": 211,
   "metadata": {},
   "outputs": [
    {
     "data": {
      "text/plain": [
       "Result           OperatingState\n",
       "Audience choice  Closed              2\n",
       "                 Operating          18\n",
       "Contestant       Acquired           39\n",
       "                 Closed             49\n",
       "                 Operating         194\n",
       "Finalist         Acquired           10\n",
       "                 Closed              5\n",
       "                 Operating          37\n",
       "Runner up        Acquired            1\n",
       "                 Operating          14\n",
       "Winner           Acquired            5\n",
       "                 Operating          12\n",
       "dtype: int64"
      ]
     },
     "execution_count": 211,
     "metadata": {},
     "output_type": "execute_result"
    }
   ],
   "source": [
    "company_new2.groupby(['Result', 'OperatingState']).size()"
   ]
  },
  {
   "cell_type": "code",
   "execution_count": 214,
   "metadata": {},
   "outputs": [
    {
     "name": "stdout",
     "output_type": "stream",
     "text": [
      "The Percentage of contestants which are still operating :  68.79432624113475\n"
     ]
    }
   ],
   "source": [
    "#So percentage of contestants which are still operating\n",
    "per_cont = 194/282\n",
    "print('The Percentage of contestants which are still operating : ',per_cont*100)"
   ]
  },
  {
   "cell_type": "code",
   "execution_count": 215,
   "metadata": {},
   "outputs": [
    {
     "name": "stdout",
     "output_type": "stream",
     "text": [
      "The Percentage of winners which are still operating :  70.58823529411765\n"
     ]
    }
   ],
   "source": [
    "#So percentage of winners which are still operating\n",
    "per_win = 12/17\n",
    "print('The Percentage of winners which are still operating : ',per_win*100)"
   ]
  },
  {
   "cell_type": "markdown",
   "metadata": {},
   "source": [
    "• Write your hypothesis comparing the proportion of companies that are operating between winners and contestants:\n",
    "Write the null hypothesis and alternative hypothesis.\n",
    "Test for significance and conclusion"
   ]
  },
  {
   "cell_type": "markdown",
   "metadata": {},
   "source": [
    "#### Ho: The proportions of operating in the winners and the contestestants state is equal\n",
    "#### Ha: The proportions are different \n",
    "\n",
    "Using the z-test"
   ]
  },
  {
   "cell_type": "code",
   "execution_count": 280,
   "metadata": {},
   "outputs": [
    {
     "name": "stdout",
     "output_type": "stream",
     "text": [
      "With a p-value of 0.8767 the difference is not significant. aka |We fail to reject the null|\n"
     ]
    }
   ],
   "source": [
    "from statsmodels.stats.proportion import proportions_ztest\n",
    "\n",
    "stat, pval = proportions_ztest([12, 194] , [17, 282])\n",
    "\n",
    "if pval < 0.05:\n",
    "    print(f'With a p-value of {round(pval,4)} the difference is significant. aka |We reject the null|')\n",
    "else:\n",
    "    print(f'With a p-value of {round(pval,4)} the difference is not significant. aka |We fail to reject the null|')"
   ]
  },
  {
   "cell_type": "markdown",
   "metadata": {},
   "source": [
    "• Check distribution of the Event variable."
   ]
  },
  {
   "cell_type": "code",
   "execution_count": 216,
   "metadata": {},
   "outputs": [
    {
     "data": {
      "text/plain": [
       "TC50 2008                    25\n",
       "TC40 2007                    22\n",
       "Disrupt NY 2015              21\n",
       "Disrupt SF 2014              19\n",
       "Disrupt NYC 2012             19\n",
       "Disrupt NYC 2013             19\n",
       "Disrupt SF 2011              19\n",
       "Disrupt SF 2013              19\n",
       "TC50 2009                    19\n",
       "Disrupt SF 2015              19\n",
       "Disrupt SF 2016              17\n",
       "Disrupt NY 2016              16\n",
       "Disrupt NYC 2014             15\n",
       "Disrupt NYC 2011             15\n",
       "Disrupt SF 2012              15\n",
       "Disrupt SF 2010              13\n",
       "Hardware Battlefield 2016    12\n",
       "Hardware Battlefield 2014    12\n",
       "Disrupt London 2015          11\n",
       "Disrupt NYC 2010             10\n",
       "Disrupt EU 2014              10\n",
       "Hardware Battlefield 2015    10\n",
       "Disrupt London 2016          10\n",
       "Disrupt EU 2013               9\n",
       "-                             6\n",
       "Disrupt Beijing 2011          4\n",
       "Name: Event, dtype: int64"
      ]
     },
     "execution_count": 216,
     "metadata": {},
     "output_type": "execute_result"
    }
   ],
   "source": [
    "company_new2['Event'].value_counts()"
   ]
  },
  {
   "cell_type": "code",
   "execution_count": 218,
   "metadata": {},
   "outputs": [
    {
     "name": "stderr",
     "output_type": "stream",
     "text": [
      "D:\\shriy\\anaconda\\lib\\site-packages\\seaborn\\_decorators.py:36: FutureWarning: Pass the following variable as a keyword arg: x. From version 0.12, the only valid positional argument will be `data`, and passing other arguments without an explicit keyword will result in an error or misinterpretation.\n",
      "  warnings.warn(\n"
     ]
    },
    {
     "data": {
      "text/plain": [
       "<AxesSubplot:xlabel='Event', ylabel='count'>"
      ]
     },
     "execution_count": 218,
     "metadata": {},
     "output_type": "execute_result"
    },
    {
     "data": {
      "image/png": "[encoded data removed]",
      "text/plain": [
       "<Figure size 1440x720 with 1 Axes>"
      ]
     },
     "metadata": {},
     "output_type": "display_data"
    }
   ],
   "source": [
    "plt.figure(figsize=(20,10))\n",
    "sns.countplot(company_new2['Event'])"
   ]
  },
  {
   "cell_type": "markdown",
   "metadata": {},
   "source": [
    "• Select only the Event that has disrupt keyword from 2013 onwards."
   ]
  },
  {
   "cell_type": "code",
   "execution_count": 236,
   "metadata": {},
   "outputs": [
    {
     "data": {
      "text/html": [
       "<div>\n",
       "<style scoped>\n",
       "    .dataframe tbody tr th:only-of-type {\n",
       "        vertical-align: middle;\n",
       "    }\n",
       "\n",
       "    .dataframe tbody tr th {\n",
       "        vertical-align: top;\n",
       "    }\n",
       "\n",
       "    .dataframe thead th {\n",
       "        text-align: right;\n",
       "    }\n",
       "</style>\n",
       "<table border=\"1\" class=\"dataframe\">\n",
       "  <thead>\n",
       "    <tr style=\"text-align: right;\">\n",
       "      <th></th>\n",
       "      <th>Startup</th>\n",
       "      <th>Product</th>\n",
       "      <th>Funding</th>\n",
       "      <th>Event</th>\n",
       "      <th>Result</th>\n",
       "      <th>OperatingState</th>\n",
       "    </tr>\n",
       "  </thead>\n",
       "  <tbody>\n",
       "    <tr>\n",
       "      <th>1</th>\n",
       "      <td>3DLT</td>\n",
       "      <td>3dlt.com</td>\n",
       "      <td>630</td>\n",
       "      <td>Disrupt NYC 2013</td>\n",
       "      <td>Contestant</td>\n",
       "      <td>Closed</td>\n",
       "    </tr>\n",
       "    <tr>\n",
       "      <th>3</th>\n",
       "      <td>3Dprintler</td>\n",
       "      <td>3dprintler.com</td>\n",
       "      <td>1000</td>\n",
       "      <td>Disrupt NY 2016</td>\n",
       "      <td>Audience choice</td>\n",
       "      <td>Operating</td>\n",
       "    </tr>\n",
       "    <tr>\n",
       "      <th>13</th>\n",
       "      <td>Agrilyst</td>\n",
       "      <td>agrilyst.com</td>\n",
       "      <td>1000</td>\n",
       "      <td>Disrupt SF 2015</td>\n",
       "      <td>Winner</td>\n",
       "      <td>Operating</td>\n",
       "    </tr>\n",
       "    <tr>\n",
       "      <th>14</th>\n",
       "      <td>Aiden</td>\n",
       "      <td>aiden.ai</td>\n",
       "      <td>750</td>\n",
       "      <td>Disrupt London 2016</td>\n",
       "      <td>Contestant</td>\n",
       "      <td>Operating</td>\n",
       "    </tr>\n",
       "    <tr>\n",
       "      <th>16</th>\n",
       "      <td>Aircall</td>\n",
       "      <td>aircall.io</td>\n",
       "      <td>11600</td>\n",
       "      <td>Disrupt SF 2015</td>\n",
       "      <td>Contestant</td>\n",
       "      <td>Operating</td>\n",
       "    </tr>\n",
       "    <tr>\n",
       "      <th>...</th>\n",
       "      <td>...</td>\n",
       "      <td>...</td>\n",
       "      <td>...</td>\n",
       "      <td>...</td>\n",
       "      <td>...</td>\n",
       "      <td>...</td>\n",
       "    </tr>\n",
       "    <tr>\n",
       "      <th>635</th>\n",
       "      <td>Welltwigs</td>\n",
       "      <td>welltwigs.com</td>\n",
       "      <td>50</td>\n",
       "      <td>Disrupt NY 2015</td>\n",
       "      <td>Contestant</td>\n",
       "      <td>Operating</td>\n",
       "    </tr>\n",
       "    <tr>\n",
       "      <th>641</th>\n",
       "      <td>Workspot</td>\n",
       "      <td>workspot.com</td>\n",
       "      <td>15800</td>\n",
       "      <td>Disrupt NYC 2013</td>\n",
       "      <td>Contestant</td>\n",
       "      <td>Operating</td>\n",
       "    </tr>\n",
       "    <tr>\n",
       "      <th>642</th>\n",
       "      <td>Xendo</td>\n",
       "      <td>xendo.com</td>\n",
       "      <td>28</td>\n",
       "      <td>Disrupt SF 2014</td>\n",
       "      <td>Contestant</td>\n",
       "      <td>Acquired</td>\n",
       "    </tr>\n",
       "    <tr>\n",
       "      <th>646</th>\n",
       "      <td>YayPay Inc</td>\n",
       "      <td>yaypay.com</td>\n",
       "      <td>900</td>\n",
       "      <td>Disrupt London 2015</td>\n",
       "      <td>Contestant</td>\n",
       "      <td>Operating</td>\n",
       "    </tr>\n",
       "    <tr>\n",
       "      <th>660</th>\n",
       "      <td>Zula</td>\n",
       "      <td>zulaapp.com</td>\n",
       "      <td>3400</td>\n",
       "      <td>Disrupt SF 2013</td>\n",
       "      <td>Audience choice</td>\n",
       "      <td>Operating</td>\n",
       "    </tr>\n",
       "  </tbody>\n",
       "</table>\n",
       "<p>280 rows × 6 columns</p>\n",
       "</div>"
      ],
      "text/plain": [
       "        Startup         Product  Funding                Event  \\\n",
       "1          3DLT        3dlt.com      630     Disrupt NYC 2013   \n",
       "3    3Dprintler  3dprintler.com     1000      Disrupt NY 2016   \n",
       "13     Agrilyst    agrilyst.com     1000      Disrupt SF 2015   \n",
       "14        Aiden        aiden.ai      750  Disrupt London 2016   \n",
       "16      Aircall      aircall.io    11600      Disrupt SF 2015   \n",
       "..          ...             ...      ...                  ...   \n",
       "635   Welltwigs   welltwigs.com       50      Disrupt NY 2015   \n",
       "641    Workspot    workspot.com    15800     Disrupt NYC 2013   \n",
       "642       Xendo       xendo.com       28      Disrupt SF 2014   \n",
       "646  YayPay Inc      yaypay.com      900  Disrupt London 2015   \n",
       "660        Zula     zulaapp.com     3400      Disrupt SF 2013   \n",
       "\n",
       "              Result OperatingState  \n",
       "1         Contestant         Closed  \n",
       "3    Audience choice      Operating  \n",
       "13            Winner      Operating  \n",
       "14        Contestant      Operating  \n",
       "16        Contestant      Operating  \n",
       "..               ...            ...  \n",
       "635       Contestant      Operating  \n",
       "641       Contestant      Operating  \n",
       "642       Contestant       Acquired  \n",
       "646       Contestant      Operating  \n",
       "660  Audience choice      Operating  \n",
       "\n",
       "[280 rows x 6 columns]"
      ]
     },
     "execution_count": 236,
     "metadata": {},
     "output_type": "execute_result"
    }
   ],
   "source": [
    "df_new = company_new2[company_new2.Event.str.startswith('Disrupt')]\n",
    "df_new"
   ]
  },
  {
   "cell_type": "code",
   "execution_count": 241,
   "metadata": {},
   "outputs": [
    {
     "data": {
      "text/html": [
       "<div>\n",
       "<style scoped>\n",
       "    .dataframe tbody tr th:only-of-type {\n",
       "        vertical-align: middle;\n",
       "    }\n",
       "\n",
       "    .dataframe tbody tr th {\n",
       "        vertical-align: top;\n",
       "    }\n",
       "\n",
       "    .dataframe thead th {\n",
       "        text-align: right;\n",
       "    }\n",
       "</style>\n",
       "<table border=\"1\" class=\"dataframe\">\n",
       "  <thead>\n",
       "    <tr style=\"text-align: right;\">\n",
       "      <th></th>\n",
       "      <th>Startup</th>\n",
       "      <th>Product</th>\n",
       "      <th>Funding</th>\n",
       "      <th>Event</th>\n",
       "      <th>Result</th>\n",
       "      <th>OperatingState</th>\n",
       "      <th>Keyword</th>\n",
       "      <th>Place</th>\n",
       "      <th>Year</th>\n",
       "    </tr>\n",
       "  </thead>\n",
       "  <tbody>\n",
       "    <tr>\n",
       "      <th>1</th>\n",
       "      <td>3DLT</td>\n",
       "      <td>3dlt.com</td>\n",
       "      <td>630</td>\n",
       "      <td>Disrupt NYC 2013</td>\n",
       "      <td>Contestant</td>\n",
       "      <td>Closed</td>\n",
       "      <td>Disrupt</td>\n",
       "      <td>NYC</td>\n",
       "      <td>2013</td>\n",
       "    </tr>\n",
       "    <tr>\n",
       "      <th>3</th>\n",
       "      <td>3Dprintler</td>\n",
       "      <td>3dprintler.com</td>\n",
       "      <td>1000</td>\n",
       "      <td>Disrupt NY 2016</td>\n",
       "      <td>Audience choice</td>\n",
       "      <td>Operating</td>\n",
       "      <td>Disrupt</td>\n",
       "      <td>NY</td>\n",
       "      <td>2016</td>\n",
       "    </tr>\n",
       "    <tr>\n",
       "      <th>13</th>\n",
       "      <td>Agrilyst</td>\n",
       "      <td>agrilyst.com</td>\n",
       "      <td>1000</td>\n",
       "      <td>Disrupt SF 2015</td>\n",
       "      <td>Winner</td>\n",
       "      <td>Operating</td>\n",
       "      <td>Disrupt</td>\n",
       "      <td>SF</td>\n",
       "      <td>2015</td>\n",
       "    </tr>\n",
       "    <tr>\n",
       "      <th>14</th>\n",
       "      <td>Aiden</td>\n",
       "      <td>aiden.ai</td>\n",
       "      <td>750</td>\n",
       "      <td>Disrupt London 2016</td>\n",
       "      <td>Contestant</td>\n",
       "      <td>Operating</td>\n",
       "      <td>Disrupt</td>\n",
       "      <td>London</td>\n",
       "      <td>2016</td>\n",
       "    </tr>\n",
       "    <tr>\n",
       "      <th>16</th>\n",
       "      <td>Aircall</td>\n",
       "      <td>aircall.io</td>\n",
       "      <td>11600</td>\n",
       "      <td>Disrupt SF 2015</td>\n",
       "      <td>Contestant</td>\n",
       "      <td>Operating</td>\n",
       "      <td>Disrupt</td>\n",
       "      <td>SF</td>\n",
       "      <td>2015</td>\n",
       "    </tr>\n",
       "    <tr>\n",
       "      <th>...</th>\n",
       "      <td>...</td>\n",
       "      <td>...</td>\n",
       "      <td>...</td>\n",
       "      <td>...</td>\n",
       "      <td>...</td>\n",
       "      <td>...</td>\n",
       "      <td>...</td>\n",
       "      <td>...</td>\n",
       "      <td>...</td>\n",
       "    </tr>\n",
       "    <tr>\n",
       "      <th>635</th>\n",
       "      <td>Welltwigs</td>\n",
       "      <td>welltwigs.com</td>\n",
       "      <td>50</td>\n",
       "      <td>Disrupt NY 2015</td>\n",
       "      <td>Contestant</td>\n",
       "      <td>Operating</td>\n",
       "      <td>Disrupt</td>\n",
       "      <td>NY</td>\n",
       "      <td>2015</td>\n",
       "    </tr>\n",
       "    <tr>\n",
       "      <th>641</th>\n",
       "      <td>Workspot</td>\n",
       "      <td>workspot.com</td>\n",
       "      <td>15800</td>\n",
       "      <td>Disrupt NYC 2013</td>\n",
       "      <td>Contestant</td>\n",
       "      <td>Operating</td>\n",
       "      <td>Disrupt</td>\n",
       "      <td>NYC</td>\n",
       "      <td>2013</td>\n",
       "    </tr>\n",
       "    <tr>\n",
       "      <th>642</th>\n",
       "      <td>Xendo</td>\n",
       "      <td>xendo.com</td>\n",
       "      <td>28</td>\n",
       "      <td>Disrupt SF 2014</td>\n",
       "      <td>Contestant</td>\n",
       "      <td>Acquired</td>\n",
       "      <td>Disrupt</td>\n",
       "      <td>SF</td>\n",
       "      <td>2014</td>\n",
       "    </tr>\n",
       "    <tr>\n",
       "      <th>646</th>\n",
       "      <td>YayPay Inc</td>\n",
       "      <td>yaypay.com</td>\n",
       "      <td>900</td>\n",
       "      <td>Disrupt London 2015</td>\n",
       "      <td>Contestant</td>\n",
       "      <td>Operating</td>\n",
       "      <td>Disrupt</td>\n",
       "      <td>London</td>\n",
       "      <td>2015</td>\n",
       "    </tr>\n",
       "    <tr>\n",
       "      <th>660</th>\n",
       "      <td>Zula</td>\n",
       "      <td>zulaapp.com</td>\n",
       "      <td>3400</td>\n",
       "      <td>Disrupt SF 2013</td>\n",
       "      <td>Audience choice</td>\n",
       "      <td>Operating</td>\n",
       "      <td>Disrupt</td>\n",
       "      <td>SF</td>\n",
       "      <td>2013</td>\n",
       "    </tr>\n",
       "  </tbody>\n",
       "</table>\n",
       "<p>185 rows × 9 columns</p>\n",
       "</div>"
      ],
      "text/plain": [
       "        Startup         Product  Funding                Event  \\\n",
       "1          3DLT        3dlt.com      630     Disrupt NYC 2013   \n",
       "3    3Dprintler  3dprintler.com     1000      Disrupt NY 2016   \n",
       "13     Agrilyst    agrilyst.com     1000      Disrupt SF 2015   \n",
       "14        Aiden        aiden.ai      750  Disrupt London 2016   \n",
       "16      Aircall      aircall.io    11600      Disrupt SF 2015   \n",
       "..          ...             ...      ...                  ...   \n",
       "635   Welltwigs   welltwigs.com       50      Disrupt NY 2015   \n",
       "641    Workspot    workspot.com    15800     Disrupt NYC 2013   \n",
       "642       Xendo       xendo.com       28      Disrupt SF 2014   \n",
       "646  YayPay Inc      yaypay.com      900  Disrupt London 2015   \n",
       "660        Zula     zulaapp.com     3400      Disrupt SF 2013   \n",
       "\n",
       "              Result OperatingState  Keyword   Place  Year  \n",
       "1         Contestant         Closed  Disrupt     NYC  2013  \n",
       "3    Audience choice      Operating  Disrupt      NY  2016  \n",
       "13            Winner      Operating  Disrupt      SF  2015  \n",
       "14        Contestant      Operating  Disrupt  London  2016  \n",
       "16        Contestant      Operating  Disrupt      SF  2015  \n",
       "..               ...            ...      ...     ...   ...  \n",
       "635       Contestant      Operating  Disrupt      NY  2015  \n",
       "641       Contestant      Operating  Disrupt     NYC  2013  \n",
       "642       Contestant       Acquired  Disrupt      SF  2014  \n",
       "646       Contestant      Operating  Disrupt  London  2015  \n",
       "660  Audience choice      Operating  Disrupt      SF  2013  \n",
       "\n",
       "[185 rows x 9 columns]"
      ]
     },
     "execution_count": 241,
     "metadata": {},
     "output_type": "execute_result"
    }
   ],
   "source": [
    "df_new[['Keyword', 'Place', 'Year']] = df_new.Event.str.split(\" \", expand=True)\n",
    "df_new.Year = pd.to_numeric(df_new.Year)\n",
    "df_new[df_new.Year>=2013]"
   ]
  },
  {
   "cell_type": "markdown",
   "metadata": {},
   "source": [
    "• Write and perform your hypothesis along with significance test comparing the funds raised by companies across NY, SF and EU events from 2013 onwards."
   ]
  },
  {
   "cell_type": "code",
   "execution_count": 256,
   "metadata": {},
   "outputs": [],
   "source": [
    "df_NY = df_new[(df_new.Place == 'NY') & (df_new.Year>=2013)]\n",
    "df_SF = df_new[(df_new.Place == 'SF') & (df_new.Year>=2013)]\n",
    "df_EU = df_new[(df_new.Place == 'EU') & (df_new.Year>=2013)]"
   ]
  },
  {
   "cell_type": "code",
   "execution_count": 263,
   "metadata": {},
   "outputs": [
    {
     "data": {
      "text/plain": [
       "count       37.000000\n",
       "mean      2586.756757\n",
       "std       3007.960322\n",
       "min         20.000000\n",
       "25%        250.000000\n",
       "50%       1500.000000\n",
       "75%       2800.000000\n",
       "max      10700.000000\n",
       "Name: Funding, dtype: float64"
      ]
     },
     "execution_count": 263,
     "metadata": {},
     "output_type": "execute_result"
    }
   ],
   "source": [
    "df_NY.Funding.describe()"
   ]
  },
  {
   "cell_type": "code",
   "execution_count": 264,
   "metadata": {},
   "outputs": [
    {
     "data": {
      "text/plain": [
       "count       74.000000\n",
       "mean      2962.918919\n",
       "std       3505.998874\n",
       "min         20.000000\n",
       "25%        525.000000\n",
       "50%       1600.000000\n",
       "75%       3275.000000\n",
       "max      12500.000000\n",
       "Name: Funding, dtype: float64"
      ]
     },
     "execution_count": 264,
     "metadata": {},
     "output_type": "execute_result"
    }
   ],
   "source": [
    "df_SF.Funding.describe()"
   ]
  },
  {
   "cell_type": "code",
   "execution_count": 262,
   "metadata": {},
   "outputs": [
    {
     "data": {
      "text/plain": [
       "count       19.000000\n",
       "mean      3559.631579\n",
       "std       4885.292840\n",
       "min        275.000000\n",
       "25%        455.500000\n",
       "50%       1100.000000\n",
       "75%       6050.000000\n",
       "max      18200.000000\n",
       "Name: Funding, dtype: float64"
      ]
     },
     "execution_count": 262,
     "metadata": {},
     "output_type": "execute_result"
    }
   ],
   "source": [
    "df_EU.Funding.describe()"
   ]
  },
  {
   "cell_type": "code",
   "execution_count": 266,
   "metadata": {},
   "outputs": [],
   "source": [
    "test_df = pd.DataFrame()\n",
    "test_df = test_df.append(df_NY[['Place','Funding']])\n",
    "test_df = test_df.append(df_SF[['Place','Funding']])\n",
    "test_df = test_df.append(df_EU[['Place','Funding']])"
   ]
  },
  {
   "cell_type": "markdown",
   "metadata": {},
   "source": [
    "Using the ANOVA Test \n",
    "Ho: The funds raised by companies across NY, SF and EU are same\n",
    "Ha: The funds raised by companies across NY, SF and EU are different"
   ]
  },
  {
   "cell_type": "code",
   "execution_count": 267,
   "metadata": {},
   "outputs": [
    {
     "name": "stdout",
     "output_type": "stream",
     "text": [
      "                sum_sq     df         F    PR(>F)\n",
      "Place     1.194946e+07    2.0  0.459141  0.632871\n",
      "Residual  1.652629e+09  127.0       NaN       NaN\n"
     ]
    }
   ],
   "source": [
    "# taking alpha = 0.05\n",
    "import statsmodels.api         as     sm\n",
    "from   statsmodels.formula.api import ols\n",
    " \n",
    "mod = ols('Funding ~ Place', data = test_df).fit()\n",
    "aov_table = sm.stats.anova_lm(mod, typ=2)\n",
    "print(aov_table)"
   ]
  },
  {
   "cell_type": "markdown",
   "metadata": {},
   "source": [
    "In this example, p value is 0.632871 and it is greater than our chosen level of signifance at 5%\n",
    "\n",
    "So the statistical decision is to fail to reject the null hypothesis at 5% level of significance."
   ]
  },
  {
   "cell_type": "markdown",
   "metadata": {},
   "source": [
    "• Plot the distribution plot comparing the 3 city events"
   ]
  },
  {
   "cell_type": "code",
   "execution_count": 279,
   "metadata": {},
   "outputs": [
    {
     "name": "stderr",
     "output_type": "stream",
     "text": [
      "D:\\shriy\\anaconda\\lib\\site-packages\\seaborn\\_decorators.py:36: FutureWarning: Pass the following variable as a keyword arg: x. From version 0.12, the only valid positional argument will be `data`, and passing other arguments without an explicit keyword will result in an error or misinterpretation.\n",
      "  warnings.warn(\n"
     ]
    },
    {
     "data": {
      "text/plain": [
       "<AxesSubplot:xlabel='Place', ylabel='count'>"
      ]
     },
     "execution_count": 279,
     "metadata": {},
     "output_type": "execute_result"
    },
    {
     "data": {
      "image/png": "[encoded data removed]",
      "text/plain": [
       "<Figure size 432x288 with 1 Axes>"
      ]
     },
     "metadata": {},
     "output_type": "display_data"
    }
   ],
   "source": [
    "sns.countplot(df_new['Place'])"
   ]
  },
  {
   "cell_type": "markdown",
   "metadata": {},
   "source": [
    "#### Observations on improvements:\n",
    "\n",
    "1. The data has product as an attribute which is email ids which could be rectified.\n",
    "2. The data has included only a few places events due to which much insights cannot be found accurately.\n",
    "3. The no. of NA value rows is quite more which results is quite less data remaining."
   ]
  }
 ],
 "metadata": {
  "kernelspec": {
   "display_name": "Python 3",
   "language": "python",
   "name": "python3"
  },
  "language_info": {
   "codemirror_mode": {
    "name": "ipython",
    "version": 3
   },
   "file_extension": ".py",
   "mimetype": "text/x-python",
   "name": "python",
   "nbconvert_exporter": "python",
   "pygments_lexer": "ipython3",
   "version": "3.8.5"
  }
 },
 "nbformat": 4,
 "nbformat_minor": 4
}
